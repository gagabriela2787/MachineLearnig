{
 "cells": [
  {
   "cell_type": "code",
   "execution_count": 1,
   "metadata": {},
   "outputs": [],
   "source": [
    "import pandas as pd\n",
    "import matplotlib.pyplot as plt\n",
    "import seaborn as sns\n",
    "import numpy as np"
   ]
  },
  {
   "cell_type": "code",
   "execution_count": 2,
   "metadata": {},
   "outputs": [
    {
     "name": "stdout",
     "output_type": "stream",
     "text": [
      "Index(['anio', 'mes', 'agente_nemo', 'agente_descripcion', 'tipo_agente',\n",
      "       'region', 'provincia', 'categoria_area', 'categoria_demanda', 'tarifa',\n",
      "       'categoria_tarifa', 'demanda_MWh', 'indice_tiempo'],\n",
      "      dtype='object')\n",
      "<class 'pandas.core.frame.DataFrame'>\n",
      "RangeIndex: 122263 entries, 0 to 122262\n",
      "Data columns (total 13 columns):\n",
      " #   Column              Non-Null Count   Dtype  \n",
      "---  ------              --------------   -----  \n",
      " 0   anio                122263 non-null  int64  \n",
      " 1   mes                 122263 non-null  int64  \n",
      " 2   agente_nemo         122263 non-null  object \n",
      " 3   agente_descripcion  122263 non-null  object \n",
      " 4   tipo_agente         122263 non-null  object \n",
      " 5   region              122263 non-null  object \n",
      " 6   provincia           122263 non-null  object \n",
      " 7   categoria_area      122263 non-null  object \n",
      " 8   categoria_demanda   122263 non-null  object \n",
      " 9   tarifa              122263 non-null  object \n",
      " 10  categoria_tarifa    122263 non-null  object \n",
      " 11  demanda_MWh         122263 non-null  float64\n",
      " 12  indice_tiempo       122263 non-null  object \n",
      "dtypes: float64(1), int64(2), object(10)\n",
      "memory usage: 12.1+ MB\n"
     ]
    }
   ],
   "source": [
    "#demanda historica 18 MB\n",
    "df6 = pd.read_csv('C:\\\\Users\\\\User\\\\Downloads\\\\grupoISPC\\\\demanda-histrica.csv')\n",
    "df6.head()\n",
    "df6.shape\n",
    "print(df6.columns)\n",
    "df6.describe()\n",
    "df6.info()"
   ]
  },
  {
   "cell_type": "code",
   "execution_count": 5,
   "metadata": {},
   "outputs": [
    {
     "name": "stdout",
     "output_type": "stream",
     "text": [
      "Index(['id', 'anio', 'mes', 'agente_nemo', 'agente_descripcion', 'tipo_agente',\n",
      "       'region', 'provincia', 'categoria_area', 'categoria_demanda', 'tarifa',\n",
      "       'categoria_tarifa', 'demanda_MWh', 'fecha_proceso', 'lote_id_log',\n",
      "       'indice_tiempo'],\n",
      "      dtype='object')\n",
      "<class 'pandas.core.frame.DataFrame'>\n",
      "RangeIndex: 40388 entries, 0 to 40387\n",
      "Data columns (total 16 columns):\n",
      " #   Column              Non-Null Count  Dtype  \n",
      "---  ------              --------------  -----  \n",
      " 0   id                  40388 non-null  int64  \n",
      " 1   anio                40388 non-null  int64  \n",
      " 2   mes                 40388 non-null  int64  \n",
      " 3   agente_nemo         40388 non-null  object \n",
      " 4   agente_descripcion  40388 non-null  object \n",
      " 5   tipo_agente         40388 non-null  object \n",
      " 6   region              40388 non-null  object \n",
      " 7   provincia           40388 non-null  object \n",
      " 8   categoria_area      40388 non-null  object \n",
      " 9   categoria_demanda   40388 non-null  object \n",
      " 10  tarifa              40388 non-null  object \n",
      " 11  categoria_tarifa    40388 non-null  object \n",
      " 12  demanda_MWh         40388 non-null  float64\n",
      " 13  fecha_proceso       40388 non-null  object \n",
      " 14  lote_id_log         40388 non-null  int64  \n",
      " 15  indice_tiempo       40388 non-null  object \n",
      "dtypes: float64(1), int64(4), object(11)\n",
      "memory usage: 4.9+ MB\n"
     ]
    }
   ],
   "source": [
    "#demanda ultimos años 7MB\n",
    "df7 = pd.read_csv('C:\\\\Users\\\\User\\Downloads\\\\grupoISPC\\\\demanda-ltimos-aos.csv')\n",
    "df7.head()\n",
    "df7.shape\n",
    "print(df7.columns)\n",
    "df7.describe()\n",
    "df7.info()"
   ]
  },
  {
   "cell_type": "code",
   "execution_count": 6,
   "metadata": {},
   "outputs": [
    {
     "name": "stdout",
     "output_type": "stream",
     "text": [
      "Index(['anio', 'mes', 'maquina', 'central', 'agente', 'agente_descripcion',\n",
      "       'region', 'pais', 'tipo_maquina', 'fuente_generacion', 'tecnologia',\n",
      "       'categoria_hidraulica', 'categoria_region', 'generacion_neta_MWh',\n",
      "       'indice_tiempo'],\n",
      "      dtype='object')\n",
      "<class 'pandas.core.frame.DataFrame'>\n",
      "RangeIndex: 91543 entries, 0 to 91542\n",
      "Data columns (total 15 columns):\n",
      " #   Column                Non-Null Count  Dtype  \n",
      "---  ------                --------------  -----  \n",
      " 0   anio                  91543 non-null  int64  \n",
      " 1   mes                   91543 non-null  int64  \n",
      " 2   maquina               91543 non-null  object \n",
      " 3   central               91543 non-null  object \n",
      " 4   agente                91543 non-null  object \n",
      " 5   agente_descripcion    91543 non-null  object \n",
      " 6   region                91543 non-null  object \n",
      " 7   pais                  91543 non-null  object \n",
      " 8   tipo_maquina          91543 non-null  object \n",
      " 9   fuente_generacion     91543 non-null  object \n",
      " 10  tecnologia            91543 non-null  object \n",
      " 11  categoria_hidraulica  9349 non-null   object \n",
      " 12  categoria_region      91543 non-null  object \n",
      " 13  generacion_neta_MWh   91543 non-null  float64\n",
      " 14  indice_tiempo         91543 non-null  object \n",
      "dtypes: float64(1), int64(2), object(12)\n",
      "memory usage: 10.5+ MB\n"
     ]
    }
   ],
   "source": [
    "#generacion historica 11 MB\n",
    "df8 = pd.read_csv('C:\\\\Users\\\\User\\\\Downloads\\\\grupoISPC\\\\generacin-histrica.csv')\n",
    "df8.head()\n",
    "df8.shape\n",
    "print(df8.columns)\n",
    "df8.describe()\n",
    "df8.info()"
   ]
  },
  {
   "cell_type": "code",
   "execution_count": 7,
   "metadata": {},
   "outputs": [
    {
     "name": "stdout",
     "output_type": "stream",
     "text": [
      "Index(['id', 'anio', 'mes', 'maquina', 'central', 'agente',\n",
      "       'agente_descripcion', 'region', 'pais', 'tipo_maquina',\n",
      "       'fuente_generacion', 'tecnologia', 'categoria_hidraulica',\n",
      "       'categoria_region', 'generacion_neta_MWh', 'fecha_proceso',\n",
      "       'lote_id_log', 'indice_tiempo'],\n",
      "      dtype='object')\n",
      "<class 'pandas.core.frame.DataFrame'>\n",
      "RangeIndex: 22444 entries, 0 to 22443\n",
      "Data columns (total 18 columns):\n",
      " #   Column                Non-Null Count  Dtype  \n",
      "---  ------                --------------  -----  \n",
      " 0   id                    22444 non-null  int64  \n",
      " 1   anio                  22444 non-null  int64  \n",
      " 2   mes                   22444 non-null  int64  \n",
      " 3   maquina               22444 non-null  object \n",
      " 4   central               22444 non-null  object \n",
      " 5   agente                22444 non-null  object \n",
      " 6   agente_descripcion    22444 non-null  object \n",
      " 7   region                22444 non-null  object \n",
      " 8   pais                  22444 non-null  object \n",
      " 9   tipo_maquina          22444 non-null  object \n",
      " 10  fuente_generacion     22444 non-null  object \n",
      " 11  tecnologia            22444 non-null  object \n",
      " 12  categoria_hidraulica  2202 non-null   object \n",
      " 13  categoria_region      22444 non-null  object \n",
      " 14  generacion_neta_MWh   22444 non-null  float64\n",
      " 15  fecha_proceso         22444 non-null  object \n",
      " 16  lote_id_log           22444 non-null  int64  \n",
      " 17  indice_tiempo         22444 non-null  object \n",
      "dtypes: float64(1), int64(4), object(13)\n",
      "memory usage: 3.1+ MB\n"
     ]
    }
   ],
   "source": [
    "\n",
    "#generacion ultimos años 3.6 MB\n",
    "df9 = pd.read_csv('C:\\\\Users\\\\User\\\\Downloads\\\\grupoISPC\\\\generacin-ltimos-aos.csv')\n",
    "df9.head()\n",
    "df9.shape\n",
    "print(df9.columns)\n",
    "df9.describe()\n",
    "df9.info()"
   ]
  },
  {
   "cell_type": "code",
   "execution_count": 8,
   "metadata": {},
   "outputs": [
    {
     "name": "stdout",
     "output_type": "stream",
     "text": [
      "Index(['id', 'anio', 'mes', 'pais', 'tipo', 'energia_mwh', 'fecha_proceso',\n",
      "       'lote_id_log', 'indice_tiempo'],\n",
      "      dtype='object')\n",
      "<class 'pandas.core.frame.DataFrame'>\n",
      "RangeIndex: 304 entries, 0 to 303\n",
      "Data columns (total 9 columns):\n",
      " #   Column         Non-Null Count  Dtype  \n",
      "---  ------         --------------  -----  \n",
      " 0   id             304 non-null    int64  \n",
      " 1   anio           304 non-null    int64  \n",
      " 2   mes            304 non-null    int64  \n",
      " 3   pais           304 non-null    object \n",
      " 4   tipo           304 non-null    object \n",
      " 5   energia_mwh    304 non-null    float64\n",
      " 6   fecha_proceso  304 non-null    object \n",
      " 7   lote_id_log    304 non-null    int64  \n",
      " 8   indice_tiempo  304 non-null    object \n",
      "dtypes: float64(1), int64(4), object(4)\n",
      "memory usage: 21.5+ KB\n"
     ]
    }
   ],
   "source": [
    "#potencia instalada 2.44 MB\n",
    "df10 = pd.read_csv('C:\\\\Users\\\\User\\\\Downloads\\\\grupoISPC\\\\importaciones-y-exportaciones.csv')\n",
    "df10.head()\n",
    "df10.shape\n",
    "print(df10.columns)\n",
    "df10.describe()\n",
    "df10.info()"
   ]
  }
 ],
 "metadata": {
  "kernelspec": {
   "display_name": "Python 3",
   "language": "python",
   "name": "python3"
  },
  "language_info": {
   "codemirror_mode": {
    "name": "ipython",
    "version": 3
   },
   "file_extension": ".py",
   "mimetype": "text/x-python",
   "name": "python",
   "nbconvert_exporter": "python",
   "pygments_lexer": "ipython3",
   "version": "3.10.11"
  },
  "orig_nbformat": 4
 },
 "nbformat": 4,
 "nbformat_minor": 2
}
