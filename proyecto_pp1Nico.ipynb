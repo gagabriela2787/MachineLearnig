{
 "cells": [
  {
   "cell_type": "markdown",
   "id": "b51b457c",
   "metadata": {},
   "source": [
    "---\n",
    "### <center> Carga de Datos"
   ]
  },
  {
   "cell_type": "code",
   "execution_count": null,
   "id": "19de6964",
   "metadata": {},
   "outputs": [],
   "source": [
    "import pandas as pd\n",
    "import matplotlib.pyplot as plt"
   ]
  },
  {
   "cell_type": "code",
   "execution_count": null,
   "id": "021e9f06",
   "metadata": {},
   "outputs": [],
   "source": [
    "# Carga y visualización parcial de Datos:\n",
    "df = pd.read_csv('datasets/generacin-histrica.csv')\n",
    "df.head(5)"
   ]
  },
  {
   "cell_type": "markdown",
   "id": "7b54d95a",
   "metadata": {},
   "source": [
    "---\n",
    "### <center> Preparación de Datos"
   ]
  },
  {
   "cell_type": "code",
   "execution_count": null,
   "id": "d093854b",
   "metadata": {},
   "outputs": [],
   "source": [
    "df.info()"
   ]
  },
  {
   "cell_type": "code",
   "execution_count": null,
   "id": "b025f289",
   "metadata": {},
   "outputs": [],
   "source": [
    "# Chequeo de registros duplicados:\n",
    "df.duplicated().value_counts()"
   ]
  },
  {
   "cell_type": "markdown",
   "id": "698e66f3",
   "metadata": {},
   "source": [
    "Observamos que el DataFrame posee 91543 registros, y que cada columna posee la misma cantidad de objetos no nulos (ni *'Nan'* ni *'None'*) a excepción de *'categoria_hidraulica'*, aunque esta es una columna no significativa para nuestro análisis. Además, no existen registros duplicados."
   ]
  },
  {
   "cell_type": "code",
   "execution_count": null,
   "id": "de661bd0",
   "metadata": {},
   "outputs": [],
   "source": [
    "# Eliminamos la columna 'categoria_hidraulica':\n",
    "df.drop(['categoria_hidraulica'], axis=1, inplace=True)"
   ]
  },
  {
   "cell_type": "code",
   "execution_count": null,
   "id": "ebe55a91",
   "metadata": {},
   "outputs": [],
   "source": [
    "# Chequeo de países presentes:\n",
    "df['pais'].value_counts()"
   ]
  },
  {
   "cell_type": "code",
   "execution_count": null,
   "id": "65e5beed",
   "metadata": {},
   "outputs": [],
   "source": [
    "# Redefinimos el dataset, conservando sólamente los registros válidos para Argentina:\n",
    "df = df[df['pais'] == \"Argentina\"]\n",
    "df['pais'].value_counts()"
   ]
  },
  {
   "cell_type": "code",
   "execution_count": null,
   "id": "e42f321d",
   "metadata": {},
   "outputs": [],
   "source": [
    "# Como hemos eliminado registros, reseteamos los índices del DataFrame:\n",
    "df.set_index((i for i in range(len(df))), inplace=True)"
   ]
  },
  {
   "cell_type": "code",
   "execution_count": null,
   "id": "47d3ae0d",
   "metadata": {},
   "outputs": [],
   "source": [
    "# Información actualizada:\n",
    "df.info()"
   ]
  },
  {
   "cell_type": "markdown",
   "id": "53d3798c",
   "metadata": {},
   "source": [
    "El DataFrame consta de 91541 registros, sin inconsistencias, valores no nulos ni duplicados. Todos los registros son pertenecientes a la Argentina."
   ]
  },
  {
   "cell_type": "markdown",
   "id": "56f87ee7",
   "metadata": {},
   "source": [
    "---\n",
    "### <center> Análisis exploratorio de Datos"
   ]
  },
  {
   "cell_type": "markdown",
   "id": "cfdbe902",
   "metadata": {},
   "source": [
    "Al consultar las **'fuentes_generacion'**, observamos que existen varias clasificaciones para las tecnologías no renovables (Térmica, Hidráulica y Nuclear):"
   ]
  },
  {
   "cell_type": "code",
   "execution_count": null,
   "id": "2c6dd08a",
   "metadata": {},
   "outputs": [],
   "source": [
    "# Convertir la variable categórica 'fuente_generacion' en variables dummy\n",
    "#df = pd.get_dummies(df, columns=['fuente_generacion'], drop_first=True)\n"
   ]
  },
  {
   "cell_type": "code",
   "execution_count": null,
   "id": "866c45b4",
   "metadata": {},
   "outputs": [],
   "source": [
    "#df['fuente_generacion'].value_counts()"
   ]
  },
  {
   "cell_type": "code",
   "execution_count": null,
   "id": "4de5b9be",
   "metadata": {},
   "outputs": [],
   "source": [
    "# Analizamos los Tipos de tecnología disponibles:\n",
    "df['tecnologia'].value_counts()"
   ]
  },
  {
   "cell_type": "markdown",
   "id": "cbbcfc35",
   "metadata": {},
   "source": [
    "Estas Tecnologías se corresponden con las siguientes descripciones:\n",
    "\n",
    "**No Renovables:**\n",
    "\n",
    "* DI: Diesel\n",
    "* TG: Turbo Gas\n",
    "* CC: Ciclos Combinados\n",
    "* HID: Hidroeléctrica\n",
    "* NUC: Nuclear\n",
    "\n",
    "\n",
    "**Renovables:**\n",
    "\n",
    "* HR: Resto Hidráulico\n",
    "* TV: Turbo Vapor\n",
    "* EOL: Eólica\n",
    "* SOL: Solar\n",
    "* BIOM: Biomasa\n",
    "* BIOG: Biogas\n",
    "* MHID: Microhidráulica"
   ]
  },
  {
   "cell_type": "code",
   "execution_count": null,
   "id": "e3a16304",
   "metadata": {},
   "outputs": [],
   "source": [
    "# Corroboramos esta clasificación, consultando aquellas consideradas 'Renovables':\n",
    "df[df['fuente_generacion'] == \"Renovable\"]['tecnologia'].value_counts()"
   ]
  },
  {
   "cell_type": "markdown",
   "id": "355c57e4",
   "metadata": {},
   "source": [
    "Como la columna **'fuente_generacion'** posee varias clasificaciones según el origen de las fuentes no renovables, agrupamos estas clasificaciones y agregamos una columna **'renovable'** con valores booleanos que indique claramente si la producción es renovable o no:"
   ]
  },
  {
   "cell_type": "code",
   "execution_count": null,
   "id": "d669bd48",
   "metadata": {},
   "outputs": [],
   "source": [
    "# Creamos los datos para la columna 'renovable':\n",
    "col_renovables = []\n",
    "\n",
    "for i in range(len(df)):\n",
    "    no_renovables = [\"DI\", \"TG\", \"CC\", \"HID\", \"NUC\"]\n",
    "    estado = True\n",
    "    if df['tecnologia'][i] in no_renovables:\n",
    "        estado = False\n",
    "    col_renovables.append(estado)\n",
    "\n",
    "# La asignamos al DataFrame:\n",
    "df['renovable'] = col_renovables"
   ]
  },
  {
   "cell_type": "markdown",
   "id": "c612c18d",
   "metadata": {},
   "source": [
    "Consultamos la producción energética anual según si es renovable o no:"
   ]
  },
  {
   "cell_type": "code",
   "execution_count": null,
   "id": "8842eba4",
   "metadata": {},
   "outputs": [],
   "source": [
    "# Consultamos la generación neta en MWh según año y según origen renovable:\n",
    "anual_MWh = df.groupby(['anio', 'renovable'])['generacion_neta_MWh'].sum()\n",
    "\n",
    "# Convertimos los valores a TWh (Terawatts por hora) para una mejor lectura:\n",
    "anual_TWh = anual_MWh / 1000000\n",
    "anual_TWh"
   ]
  },
  {
   "cell_type": "code",
   "execution_count": null,
   "id": "64f47363",
   "metadata": {},
   "outputs": [],
   "source": [
    "# Generamos un gráfico de barras apiladas:\n",
    "anual_TWh.unstack().plot(kind=\"bar\", stacked=True, figsize=(10, 6))\n",
    "plt.title(\"Generación eléctrica total anual según Renovabilidad\")\n",
    "plt.xlabel(\"Año\")\n",
    "plt.ylabel(\"Generación (TWh)\")\n",
    "plt.show()"
   ]
  },
  {
   "cell_type": "code",
   "execution_count": null,
   "id": "337dc769",
   "metadata": {},
   "outputs": [],
   "source": []
  }
 ],
 "metadata": {
  "kernelspec": {
   "display_name": "Python 3 (ipykernel)",
   "language": "python",
   "name": "python3"
  },
  "language_info": {
   "codemirror_mode": {
    "name": "ipython",
    "version": 3
   },
   "file_extension": ".py",
   "mimetype": "text/x-python",
   "name": "python",
   "nbconvert_exporter": "python",
   "pygments_lexer": "ipython3",
   "version": "3.10.11"
  }
 },
 "nbformat": 4,
 "nbformat_minor": 5
}
