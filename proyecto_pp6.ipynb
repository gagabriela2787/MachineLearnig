{
 "cells": [
  {
   "cell_type": "markdown",
   "id": "b51b457c",
   "metadata": {},
   "source": [
    "---\n",
    "### <center> Carga de Datos"
   ]
  },
  {
   "cell_type": "code",
   "execution_count": 1,
   "id": "19de6964",
   "metadata": {},
   "outputs": [],
   "source": [
    "import numpy as np\n",
    "import pandas as pd\n",
    "import matplotlib.pyplot as plt\n",
    "import seaborn as sns"
   ]
  },
  {
   "cell_type": "code",
   "execution_count": 2,
   "id": "021e9f06",
   "metadata": {
    "scrolled": false
   },
   "outputs": [
    {
     "data": {
      "text/html": [
       "<div>\n",
       "<style scoped>\n",
       "    .dataframe tbody tr th:only-of-type {\n",
       "        vertical-align: middle;\n",
       "    }\n",
       "\n",
       "    .dataframe tbody tr th {\n",
       "        vertical-align: top;\n",
       "    }\n",
       "\n",
       "    .dataframe thead th {\n",
       "        text-align: right;\n",
       "    }\n",
       "</style>\n",
       "<table border=\"1\" class=\"dataframe\">\n",
       "  <thead>\n",
       "    <tr style=\"text-align: right;\">\n",
       "      <th></th>\n",
       "      <th>id</th>\n",
       "      <th>periodo</th>\n",
       "      <th>central</th>\n",
       "      <th>agente</th>\n",
       "      <th>agente_descripcion</th>\n",
       "      <th>region</th>\n",
       "      <th>categoria_region</th>\n",
       "      <th>tipo_maquina</th>\n",
       "      <th>fuente_generacion</th>\n",
       "      <th>tecnologia</th>\n",
       "      <th>potencia_instalada_mw</th>\n",
       "      <th>fecha_proceso</th>\n",
       "      <th>lote_id_log</th>\n",
       "      <th>mes</th>\n",
       "      <th>indice_tiempo</th>\n",
       "      <th>anio</th>\n",
       "    </tr>\n",
       "  </thead>\n",
       "  <tbody>\n",
       "    <tr>\n",
       "      <th>0</th>\n",
       "      <td>2</td>\n",
       "      <td>2015-10-01 00:00:00</td>\n",
       "      <td>ABRO</td>\n",
       "      <td>CTBROWNG</td>\n",
       "      <td>C.T. ALMIRANTE BROWN</td>\n",
       "      <td>GRAN BS.AS.</td>\n",
       "      <td>Gba - Litoral - Buenos Aires</td>\n",
       "      <td>DI</td>\n",
       "      <td>Térmica</td>\n",
       "      <td>Motor Diesel</td>\n",
       "      <td>25.00</td>\n",
       "      <td>2018-10-08 15:47:17.851306</td>\n",
       "      <td>4</td>\n",
       "      <td>10</td>\n",
       "      <td>2015-10</td>\n",
       "      <td>2015</td>\n",
       "    </tr>\n",
       "    <tr>\n",
       "      <th>1</th>\n",
       "      <td>3</td>\n",
       "      <td>2015-10-01 00:00:00</td>\n",
       "      <td>ACAJ</td>\n",
       "      <td>CAPEXSAG</td>\n",
       "      <td>C.T. AGUA DEL CAJON</td>\n",
       "      <td>COMAHUE</td>\n",
       "      <td>Comahue</td>\n",
       "      <td>TG</td>\n",
       "      <td>Térmica</td>\n",
       "      <td>Ciclos Combinados</td>\n",
       "      <td>184.40</td>\n",
       "      <td>2018-10-08 15:47:17.851306</td>\n",
       "      <td>4</td>\n",
       "      <td>10</td>\n",
       "      <td>2015-10</td>\n",
       "      <td>2015</td>\n",
       "    </tr>\n",
       "    <tr>\n",
       "      <th>2</th>\n",
       "      <td>4</td>\n",
       "      <td>2015-10-01 00:00:00</td>\n",
       "      <td>ADTOHI</td>\n",
       "      <td>HIDIAMAG</td>\n",
       "      <td>H. DIAMANTE SA</td>\n",
       "      <td>CUYO</td>\n",
       "      <td>Cuyo</td>\n",
       "      <td>HI</td>\n",
       "      <td>Hidráulica</td>\n",
       "      <td>Hidráulica</td>\n",
       "      <td>150.00</td>\n",
       "      <td>2018-10-08 15:47:17.851306</td>\n",
       "      <td>4</td>\n",
       "      <td>10</td>\n",
       "      <td>2015-10</td>\n",
       "      <td>2015</td>\n",
       "    </tr>\n",
       "    <tr>\n",
       "      <th>3</th>\n",
       "      <td>5</td>\n",
       "      <td>2015-10-01 00:00:00</td>\n",
       "      <td>AESP</td>\n",
       "      <td>CTAESPAG</td>\n",
       "      <td>C.T. AES PARANA</td>\n",
       "      <td>BUENOS AIRES</td>\n",
       "      <td>Gba - Litoral - Buenos Aires</td>\n",
       "      <td>TG</td>\n",
       "      <td>Térmica</td>\n",
       "      <td>Ciclos Combinados</td>\n",
       "      <td>525.96</td>\n",
       "      <td>2018-10-08 15:47:17.851306</td>\n",
       "      <td>4</td>\n",
       "      <td>10</td>\n",
       "      <td>2015-10</td>\n",
       "      <td>2015</td>\n",
       "    </tr>\n",
       "    <tr>\n",
       "      <th>4</th>\n",
       "      <td>6</td>\n",
       "      <td>2015-10-01 00:00:00</td>\n",
       "      <td>AESP</td>\n",
       "      <td>CTAESPAG</td>\n",
       "      <td>C.T. AES PARANA</td>\n",
       "      <td>BUENOS AIRES</td>\n",
       "      <td>Gba - Litoral - Buenos Aires</td>\n",
       "      <td>TV</td>\n",
       "      <td>Térmica</td>\n",
       "      <td>Ciclos Combinados</td>\n",
       "      <td>319.30</td>\n",
       "      <td>2018-10-08 15:47:17.851306</td>\n",
       "      <td>4</td>\n",
       "      <td>10</td>\n",
       "      <td>2015-10</td>\n",
       "      <td>2015</td>\n",
       "    </tr>\n",
       "  </tbody>\n",
       "</table>\n",
       "</div>"
      ],
      "text/plain": [
       "   id              periodo central    agente    agente_descripcion   \n",
       "0   2  2015-10-01 00:00:00    ABRO  CTBROWNG  C.T. ALMIRANTE BROWN  \\\n",
       "1   3  2015-10-01 00:00:00    ACAJ  CAPEXSAG   C.T. AGUA DEL CAJON   \n",
       "2   4  2015-10-01 00:00:00  ADTOHI  HIDIAMAG        H. DIAMANTE SA   \n",
       "3   5  2015-10-01 00:00:00    AESP  CTAESPAG       C.T. AES PARANA   \n",
       "4   6  2015-10-01 00:00:00    AESP  CTAESPAG       C.T. AES PARANA   \n",
       "\n",
       "         region              categoria_region tipo_maquina fuente_generacion   \n",
       "0   GRAN BS.AS.  Gba - Litoral - Buenos Aires           DI           Térmica  \\\n",
       "1       COMAHUE                       Comahue           TG           Térmica   \n",
       "2          CUYO                          Cuyo           HI        Hidráulica   \n",
       "3  BUENOS AIRES  Gba - Litoral - Buenos Aires           TG           Térmica   \n",
       "4  BUENOS AIRES  Gba - Litoral - Buenos Aires           TV           Térmica   \n",
       "\n",
       "          tecnologia  potencia_instalada_mw               fecha_proceso   \n",
       "0       Motor Diesel                  25.00  2018-10-08 15:47:17.851306  \\\n",
       "1  Ciclos Combinados                 184.40  2018-10-08 15:47:17.851306   \n",
       "2         Hidráulica                 150.00  2018-10-08 15:47:17.851306   \n",
       "3  Ciclos Combinados                 525.96  2018-10-08 15:47:17.851306   \n",
       "4  Ciclos Combinados                 319.30  2018-10-08 15:47:17.851306   \n",
       "\n",
       "   lote_id_log  mes indice_tiempo  anio  \n",
       "0            4   10       2015-10  2015  \n",
       "1            4   10       2015-10  2015  \n",
       "2            4   10       2015-10  2015  \n",
       "3            4   10       2015-10  2015  \n",
       "4            4   10       2015-10  2015  "
      ]
     },
     "execution_count": 2,
     "metadata": {},
     "output_type": "execute_result"
    }
   ],
   "source": [
    "# Carga y visualización de Datos:\n",
    "df = pd.read_csv('datasets/potencia-instalada.csv')\n",
    "df.head(5)"
   ]
  },
  {
   "cell_type": "markdown",
   "id": "7b54d95a",
   "metadata": {},
   "source": [
    "---\n",
    "### <center> Preparación de Datos"
   ]
  },
  {
   "cell_type": "code",
   "execution_count": 3,
   "id": "d093854b",
   "metadata": {},
   "outputs": [
    {
     "name": "stdout",
     "output_type": "stream",
     "text": [
      "<class 'pandas.core.frame.DataFrame'>\n",
      "RangeIndex: 15793 entries, 0 to 15792\n",
      "Data columns (total 16 columns):\n",
      " #   Column                 Non-Null Count  Dtype  \n",
      "---  ------                 --------------  -----  \n",
      " 0   id                     15793 non-null  int64  \n",
      " 1   periodo                15793 non-null  object \n",
      " 2   central                15793 non-null  object \n",
      " 3   agente                 15789 non-null  object \n",
      " 4   agente_descripcion     15789 non-null  object \n",
      " 5   region                 15793 non-null  object \n",
      " 6   categoria_region       15793 non-null  object \n",
      " 7   tipo_maquina           15793 non-null  object \n",
      " 8   fuente_generacion      15793 non-null  object \n",
      " 9   tecnologia             15793 non-null  object \n",
      " 10  potencia_instalada_mw  15793 non-null  float64\n",
      " 11  fecha_proceso          15793 non-null  object \n",
      " 12  lote_id_log            15793 non-null  int64  \n",
      " 13  mes                    15793 non-null  int64  \n",
      " 14  indice_tiempo          15793 non-null  object \n",
      " 15  anio                   15793 non-null  int64  \n",
      "dtypes: float64(1), int64(4), object(11)\n",
      "memory usage: 1.9+ MB\n"
     ]
    }
   ],
   "source": [
    "df.info()"
   ]
  },
  {
   "cell_type": "code",
   "execution_count": 4,
   "id": "b025f289",
   "metadata": {},
   "outputs": [
    {
     "data": {
      "text/plain": [
       "False    15793\n",
       "Name: count, dtype: int64"
      ]
     },
     "execution_count": 4,
     "metadata": {},
     "output_type": "execute_result"
    }
   ],
   "source": [
    "# Chequeo de registros duplicados:\n",
    "df.duplicated().value_counts()"
   ]
  },
  {
   "cell_type": "markdown",
   "id": "698e66f3",
   "metadata": {},
   "source": [
    "Observamos que el DataFrame posee 15792 registros, y que cada columna posee la misma cantidad de objetos no nulos (ni *'Nan'* ni *'None'*). Además, no existen registros duplicados."
   ]
  },
  {
   "cell_type": "code",
   "execution_count": 5,
   "id": "47d3ae0d",
   "metadata": {},
   "outputs": [
    {
     "name": "stdout",
     "output_type": "stream",
     "text": [
      "<class 'pandas.core.frame.DataFrame'>\n",
      "RangeIndex: 15793 entries, 0 to 15792\n",
      "Data columns (total 16 columns):\n",
      " #   Column                 Non-Null Count  Dtype  \n",
      "---  ------                 --------------  -----  \n",
      " 0   id                     15793 non-null  int64  \n",
      " 1   periodo                15793 non-null  object \n",
      " 2   central                15793 non-null  object \n",
      " 3   agente                 15789 non-null  object \n",
      " 4   agente_descripcion     15789 non-null  object \n",
      " 5   region                 15793 non-null  object \n",
      " 6   categoria_region       15793 non-null  object \n",
      " 7   tipo_maquina           15793 non-null  object \n",
      " 8   fuente_generacion      15793 non-null  object \n",
      " 9   tecnologia             15793 non-null  object \n",
      " 10  potencia_instalada_mw  15793 non-null  float64\n",
      " 11  fecha_proceso          15793 non-null  object \n",
      " 12  lote_id_log            15793 non-null  int64  \n",
      " 13  mes                    15793 non-null  int64  \n",
      " 14  indice_tiempo          15793 non-null  object \n",
      " 15  anio                   15793 non-null  int64  \n",
      "dtypes: float64(1), int64(4), object(11)\n",
      "memory usage: 1.9+ MB\n"
     ]
    }
   ],
   "source": [
    "# Información actualizada:\n",
    "df.info()"
   ]
  },
  {
   "cell_type": "code",
   "execution_count": 6,
   "id": "1b819848",
   "metadata": {},
   "outputs": [],
   "source": [
    " # Convierte la columna 'periodo' en datetime\n",
    "df['periodo'] = pd.to_datetime(df['periodo']) \n",
    "#df.set_index('periodo', inplace=True)"
   ]
  },
  {
   "cell_type": "markdown",
   "id": "53d3798c",
   "metadata": {},
   "source": [
    "El DataFrame consta de 15792 registros, sin inconsistencias, valores no nulos ni duplicados."
   ]
  },
  {
   "cell_type": "markdown",
   "id": "56f87ee7",
   "metadata": {},
   "source": [
    "---\n",
    "### <center> Análisis exploratorio de Datos"
   ]
  },
  {
   "cell_type": "markdown",
   "id": "cfdbe902",
   "metadata": {},
   "source": [
    "Al consultar las **'fuentes_generacion'**, observamos que existen varias clasificaciones para las tecnologías no renovables (Térmica, Hidráulica y Nuclear):"
   ]
  },
  {
   "cell_type": "code",
   "execution_count": 7,
   "id": "8c22eaf7",
   "metadata": {},
   "outputs": [
    {
     "data": {
      "text/plain": [
       "categoria_region\n",
       "Gba - Litoral - Buenos Aires    4786\n",
       "Noa                             2740\n",
       "Centro                          1880\n",
       "Cuyo                            1809\n",
       "Comahue                         1642\n",
       "Nea                             1374\n",
       "Patagonia                        958\n",
       "Unidades Móviles                 604\n",
       "Name: count, dtype: int64"
      ]
     },
     "execution_count": 7,
     "metadata": {},
     "output_type": "execute_result"
    }
   ],
   "source": [
    "df['categoria_region'].value_counts()"
   ]
  },
  {
   "cell_type": "code",
   "execution_count": 8,
   "id": "866c45b4",
   "metadata": {},
   "outputs": [
    {
     "data": {
      "text/plain": [
       "fuente_generacion\n",
       "Térmica       11191\n",
       "Renovable      3186\n",
       "Hidráulica     1266\n",
       "Nuclear         150\n",
       "Name: count, dtype: int64"
      ]
     },
     "execution_count": 8,
     "metadata": {},
     "output_type": "execute_result"
    }
   ],
   "source": [
    "df['fuente_generacion'].value_counts()"
   ]
  },
  {
   "cell_type": "code",
   "execution_count": 9,
   "id": "4de5b9be",
   "metadata": {},
   "outputs": [
    {
     "data": {
      "text/plain": [
       "tecnologia\n",
       "Motor Diesel            5323\n",
       "Turbina a gas           3197\n",
       "Ciclos Combinados       2073\n",
       "Hidráulica Renovable    1688\n",
       "Hidráulica              1266\n",
       "Eólica                   747\n",
       "Turbovapor               599\n",
       "Solar                    475\n",
       "Biogas                   257\n",
       "Nuclear                  150\n",
       "Micro Hidráulica          10\n",
       "Biomasa                    8\n",
       "Name: count, dtype: int64"
      ]
     },
     "execution_count": 9,
     "metadata": {},
     "output_type": "execute_result"
    }
   ],
   "source": [
    "# Analizamos los Tipos de tecnología disponibles:\n",
    "df['tecnologia'].value_counts()"
   ]
  },
  {
   "cell_type": "markdown",
   "id": "cbbcfc35",
   "metadata": {},
   "source": [
    "Estas Tecnologías se corresponden con las siguientes descripciones:\n",
    "\n",
    "**No Renovables:**\n",
    "* Motor Diesel\n",
    "* Turbina a Gas\n",
    "* Ciclos Combinados\n",
    "* Hidráulica\n",
    "* Turbovapor\n",
    "* Nuclear\n",
    "\n",
    "\n",
    "**Renovables:**\n",
    "* Turbo Vapor\n",
    "* Eólica\n",
    "* Solar\n",
    "* Biomasa\n",
    "* Biogas\n",
    "* Microhidráulica\n",
    "* Hidráulica Renovable"
   ]
  },
  {
   "cell_type": "code",
   "execution_count": 10,
   "id": "e3a16304",
   "metadata": {},
   "outputs": [
    {
     "data": {
      "text/plain": [
       "tecnologia\n",
       "Hidráulica Renovable    1688\n",
       "Eólica                   747\n",
       "Solar                    475\n",
       "Biogas                   257\n",
       "Micro Hidráulica          10\n",
       "Biomasa                    8\n",
       "Turbovapor                 1\n",
       "Name: count, dtype: int64"
      ]
     },
     "execution_count": 10,
     "metadata": {},
     "output_type": "execute_result"
    }
   ],
   "source": [
    "# Corroboramos esta clasificación, consultando aquellas consideradas 'Renovables':\n",
    "df[df['fuente_generacion'] == \"Renovable\"]['tecnologia'].value_counts()"
   ]
  },
  {
   "cell_type": "code",
   "execution_count": 11,
   "id": "e2ee6d2b",
   "metadata": {},
   "outputs": [
    {
     "data": {
      "text/plain": [
       "tecnologia\n",
       "Motor Diesel         5323\n",
       "Turbina a gas        3197\n",
       "Ciclos Combinados    2073\n",
       "Hidráulica           1266\n",
       "Turbovapor            598\n",
       "Nuclear               150\n",
       "Name: count, dtype: int64"
      ]
     },
     "execution_count": 11,
     "metadata": {},
     "output_type": "execute_result"
    }
   ],
   "source": [
    "df[df['fuente_generacion'] != \"Renovable\"]['tecnologia'].value_counts()"
   ]
  },
  {
   "cell_type": "markdown",
   "id": "355c57e4",
   "metadata": {},
   "source": [
    "Como la columna **'fuente_generacion'** posee varias clasificaciones según el origen de las fuentes no renovables, agrupamos estas clasificaciones y agregamos una columna **'renovable'** con valores booleanos que indique claramente si la producción es renovable o no:"
   ]
  },
  {
   "cell_type": "code",
   "execution_count": 12,
   "id": "ac898a40",
   "metadata": {},
   "outputs": [],
   "source": [
    "# Agrupa los datos por año y suma la columna 'potencia_instalada_mw' si es 'renovable' o 'no renovable'\n",
    "pot_renov = df[df['fuente_generacion'] == 'Renovable'].groupby('anio')['potencia_instalada_mw'].sum()\n",
    "pot_no_renov = df[df['fuente_generacion'] != 'Renovable'].groupby('anio')['potencia_instalada_mw'].sum()\n",
    "\n",
    "anios=[2015,2016,2017,2018,2019,2020]\n",
    "\n",
    "# Agrupa los datos totales por año y suma la columna 'potencia_instalada_mw' \n",
    "potencia_MWh = df.groupby(df['anio'])['potencia_instalada_mw'].sum()\n",
    "anual_potencia_MWh = df['potencia_instalada_mw'].sum()"
   ]
  },
  {
   "cell_type": "code",
   "execution_count": 13,
   "id": "124bff7a",
   "metadata": {},
   "outputs": [
    {
     "data": {
      "image/png": "[encoded data removed]",
      "text/plain": [
       "<Figure size 1000x600 with 1 Axes>"
      ]
     },
     "metadata": {},
     "output_type": "display_data"
    }
   ],
   "source": [
    "potencia_MWh = df.groupby('anio')['potencia_instalada_mw'].sum().reset_index()\n",
    "\n",
    "# Gráfico de Potencia Total instalada en centrales del país por año\n",
    "\n",
    "plt.figure(figsize=(10, 6))\n",
    "palette = sns.color_palette() \n",
    "plt.bar(potencia_MWh['anio'], potencia_MWh['potencia_instalada_mw'], color=palette)\n",
    "plt.xlabel('Año')\n",
    "plt.ylabel('Capacidad instalada (MWh)')\n",
    "plt.title('Potencia total instalada en MWh en Centrales del país')\n",
    "\n",
    "plt.show()"
   ]
  },
  {
   "cell_type": "code",
   "execution_count": 14,
   "id": "1f479c99",
   "metadata": {},
   "outputs": [
    {
     "data": {
      "text/plain": [
       "<Figure size 1000x800 with 0 Axes>"
      ]
     },
     "metadata": {},
     "output_type": "display_data"
    },
    {
     "data": {
      "image/png": "[encoded data removed]",
      "text/plain": [
       "<Figure size 640x480 with 1 Axes>"
      ]
     },
     "metadata": {},
     "output_type": "display_data"
    }
   ],
   "source": [
    "# Gráfico de potencia instalada en centrales del país separadas en 'renovables' y 'no renovables'\n",
    "co = np.arange(len(anios))\n",
    "an = 0.40\n",
    "plt.figure(figsize=(10, 8))\n",
    "fig, ax = plt.subplots()\n",
    "ax.bar(co - an/2, pot_renov, an, label= 'Renovable', color = 'green')\n",
    "ax.bar(co + an/2, pot_no_renov, an, label= 'No Renovable')\n",
    "\n",
    "ax.set_title('Potencia total instalada en MWh en Centrales del país - Renovables y No Renovables')\n",
    "ax.set_xlabel('Años')\n",
    "ax.set_ylabel('Capacidad instalada en MWh')\n",
    "ax.set_xticks(co)\n",
    "ax.set_xticklabels(anios)\n",
    "\n",
    "plt.legend()\n",
    "plt.show()"
   ]
  },
  {
   "cell_type": "code",
   "execution_count": 15,
   "id": "2b155607",
   "metadata": {},
   "outputs": [],
   "source": [
    "# DataFrame con los datos de energía renovable\n",
    "energia_renovable = df[df['fuente_generacion'] == \"Renovable\"]\n",
    "# Calculo la suma de la potencia instalada de energía renovable\n",
    "potencia_renovable_total = energia_renovable['potencia_instalada_mw'].sum()\n",
    "\n",
    "# Calculo la suma de la potencia total instalada\n",
    "potencia_total = df['potencia_instalada_mw'].sum()\n",
    "\n",
    "# Porcentaje de potencia instalada de energía renovable sobre el total\n",
    "porcentaje_renovable = (potencia_renovable_total / potencia_total) * 100\n",
    "porcentaje_no_renovable = 100 - porcentaje_renovable\n"
   ]
  },
  {
   "cell_type": "code",
   "execution_count": 16,
   "id": "89565c07",
   "metadata": {},
   "outputs": [],
   "source": [
    "# Separa datos de prueba y de entrenamiento\n",
    "#X = df.drop('potencia_instalada_mw', axis=1)\n",
    "#y = data['potencia_instalada_mw']\n",
    "#X_train, X_temp, y_train, y_temp = train_test_split(X, y, test_size=0.3, random_state=42)\n",
    "#X_val, X_test, y_val, y_test = train_test_split(X_temp, y_temp, test_size=0.5, random_state=42)"
   ]
  }
 ],
 "metadata": {
  "kernelspec": {
   "display_name": "Python 3 (ipykernel)",
   "language": "python",
   "name": "python3"
  },
  "language_info": {
   "codemirror_mode": {
    "name": "ipython",
    "version": 3
   },
   "file_extension": ".py",
   "mimetype": "text/x-python",
   "name": "python",
   "nbconvert_exporter": "python",
   "pygments_lexer": "ipython3",
   "version": "3.10.11"
  }
 },
 "nbformat": 4,
 "nbformat_minor": 5
}
