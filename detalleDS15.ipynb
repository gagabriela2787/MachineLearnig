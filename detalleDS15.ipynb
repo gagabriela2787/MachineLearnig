{
  "cells": [
    {
      "cell_type": "markdown",
      "metadata": {
        "id": "-0WRUw93PhA9"
      },
      "source": [
        "DATASET 1\n",
        "Agentes del MEM -\n",
        "Agentes del Mercado Eléctrico Mayorista"
      ]
    },
    {
      "cell_type": "code",
      "execution_count": 1,
      "metadata": {
        "id": "-odGYWUrPJm0"
      },
      "outputs": [],
      "source": [
        "import pandas as pd\n",
        "import matplotlib.pyplot as plt\n",
        "import seaborn as sns\n",
        "import numpy as np"
      ]
    },
    {
      "cell_type": "code",
      "execution_count": 2,
      "metadata": {
        "id": "gcCe-LEsPuDg"
      },
      "outputs": [],
      "source": [
        "url = 'https://raw.githubusercontent.com/gagabriela2787/PracticaProfISPC/main/dataset/agentes-mem.csv'\n",
        "\n",
        "df1 = pd.read_csv(url)"
      ]
    },
    {
      "cell_type": "code",
      "execution_count": 7,
      "metadata": {
        "id": "n0TI7aRmh39u"
      },
      "outputs": [
        {
          "data": {
            "text/html": [
              "<div>\n",
              "<style scoped>\n",
              "    .dataframe tbody tr th:only-of-type {\n",
              "        vertical-align: middle;\n",
              "    }\n",
              "\n",
              "    .dataframe tbody tr th {\n",
              "        vertical-align: top;\n",
              "    }\n",
              "\n",
              "    .dataframe thead th {\n",
              "        text-align: right;\n",
              "    }\n",
              "</style>\n",
              "<table border=\"1\" class=\"dataframe\">\n",
              "  <thead>\n",
              "    <tr style=\"text-align: right;\">\n",
              "      <th></th>\n",
              "      <th>id</th>\n",
              "      <th>nemo</th>\n",
              "      <th>descipcion</th>\n",
              "      <th>agrupacion</th>\n",
              "      <th>tipo_agente</th>\n",
              "      <th>fecha_proceso</th>\n",
              "      <th>lote_id_log</th>\n",
              "    </tr>\n",
              "  </thead>\n",
              "  <tbody>\n",
              "    <tr>\n",
              "      <th>0</th>\n",
              "      <td>149768</td>\n",
              "      <td>14DEMP3N</td>\n",
              "      <td>14 DE JULIO S.A. - PESQUERA</td>\n",
              "      <td>GRANDES USUARIOS</td>\n",
              "      <td>Gran Usuario Menor (GUME)</td>\n",
              "      <td>2020-05-05 11:08:14.531913</td>\n",
              "      <td>67</td>\n",
              "    </tr>\n",
              "    <tr>\n",
              "      <th>1</th>\n",
              "      <td>149769</td>\n",
              "      <td>72GAVEIN</td>\n",
              "      <td>72 GAS S.A.- BOUL.72 LA PLATA</td>\n",
              "      <td>GRANDES USUARIOS</td>\n",
              "      <td>Gran Usuario Menor (GUME)</td>\n",
              "      <td>2020-05-05 11:08:14.531913</td>\n",
              "      <td>67</td>\n",
              "    </tr>\n",
              "    <tr>\n",
              "      <th>2</th>\n",
              "      <td>149770</td>\n",
              "      <td>AAARFOCN</td>\n",
              "      <td>ABRASIVOS ARGENTINOS SA</td>\n",
              "      <td>GRANDES USUARIOS</td>\n",
              "      <td>Gran Usuario Menor (GUME)</td>\n",
              "      <td>2020-05-05 11:08:14.531913</td>\n",
              "      <td>67</td>\n",
              "    </tr>\n",
              "    <tr>\n",
              "      <th>3</th>\n",
              "      <td>149771</td>\n",
              "      <td>AARGTAOY</td>\n",
              "      <td>AEROP ARG 2000 - Aeroparque</td>\n",
              "      <td>GRANDES USUARIOS</td>\n",
              "      <td>Gran Usuario Mayor (GUMA)</td>\n",
              "      <td>2020-05-05 11:08:14.531913</td>\n",
              "      <td>67</td>\n",
              "    </tr>\n",
              "    <tr>\n",
              "      <th>4</th>\n",
              "      <td>149772</td>\n",
              "      <td>ABASTUTN</td>\n",
              "      <td>ABASTO TUCUMANO</td>\n",
              "      <td>GRANDES USUARIOS</td>\n",
              "      <td>Gran Usuario Menor (GUME)</td>\n",
              "      <td>2020-05-05 11:08:14.531913</td>\n",
              "      <td>67</td>\n",
              "    </tr>\n",
              "  </tbody>\n",
              "</table>\n",
              "</div>"
            ],
            "text/plain": [
              "       id      nemo                     descipcion        agrupacion   \n",
              "0  149768  14DEMP3N    14 DE JULIO S.A. - PESQUERA  GRANDES USUARIOS  \\\n",
              "1  149769  72GAVEIN  72 GAS S.A.- BOUL.72 LA PLATA  GRANDES USUARIOS   \n",
              "2  149770  AAARFOCN        ABRASIVOS ARGENTINOS SA  GRANDES USUARIOS   \n",
              "3  149771  AARGTAOY    AEROP ARG 2000 - Aeroparque  GRANDES USUARIOS   \n",
              "4  149772  ABASTUTN                ABASTO TUCUMANO  GRANDES USUARIOS   \n",
              "\n",
              "                 tipo_agente               fecha_proceso  lote_id_log  \n",
              "0  Gran Usuario Menor (GUME)  2020-05-05 11:08:14.531913           67  \n",
              "1  Gran Usuario Menor (GUME)  2020-05-05 11:08:14.531913           67  \n",
              "2  Gran Usuario Menor (GUME)  2020-05-05 11:08:14.531913           67  \n",
              "3  Gran Usuario Mayor (GUMA)  2020-05-05 11:08:14.531913           67  \n",
              "4  Gran Usuario Menor (GUME)  2020-05-05 11:08:14.531913           67  "
            ]
          },
          "execution_count": 7,
          "metadata": {},
          "output_type": "execute_result"
        }
      ],
      "source": [
        "df1.head()"
      ]
    },
    {
      "cell_type": "code",
      "execution_count": null,
      "metadata": {
        "id": "aaNhEHpkQMoA"
      },
      "outputs": [],
      "source": [
        "df1.shape"
      ]
    },
    {
      "cell_type": "code",
      "execution_count": null,
      "metadata": {
        "id": "2dnWcXvmQSct"
      },
      "outputs": [],
      "source": [
        "print(df1.columns)\n"
      ]
    },
    {
      "cell_type": "code",
      "execution_count": null,
      "metadata": {
        "id": "ShHbym2DQURy"
      },
      "outputs": [],
      "source": [
        "df1.describe()"
      ]
    },
    {
      "cell_type": "code",
      "execution_count": 4,
      "metadata": {
        "id": "EsN1gInqQUOP"
      },
      "outputs": [
        {
          "name": "stdout",
          "output_type": "stream",
          "text": [
            "<class 'pandas.core.frame.DataFrame'>\n",
            "RangeIndex: 10080 entries, 0 to 10079\n",
            "Data columns (total 7 columns):\n",
            " #   Column         Non-Null Count  Dtype \n",
            "---  ------         --------------  ----- \n",
            " 0   id             10080 non-null  int64 \n",
            " 1   nemo           10080 non-null  object\n",
            " 2   descipcion     10080 non-null  object\n",
            " 3   agrupacion     9803 non-null   object\n",
            " 4   tipo_agente    10080 non-null  object\n",
            " 5   fecha_proceso  10080 non-null  object\n",
            " 6   lote_id_log    10080 non-null  int64 \n",
            "dtypes: int64(2), object(5)\n",
            "memory usage: 551.4+ KB\n"
          ]
        }
      ],
      "source": [
        "df1.info()"
      ]
    },
    {
      "cell_type": "markdown",
      "metadata": {
        "id": "2yegNbteR63d"
      },
      "source": [
        "\n",
        "\n",
        "---\n",
        "\n",
        "\n",
        "\n",
        "---\n",
        "\n"
      ]
    },
    {
      "cell_type": "markdown",
      "metadata": {
        "id": "-qG73VQrUVMv"
      },
      "source": [
        "DATASET 2\n",
        "Balance\n",
        "Balance de Energía del Mercado Eléctrico Mayorista."
      ]
    },
    {
      "cell_type": "code",
      "execution_count": 5,
      "metadata": {
        "id": "cz2CVJ2aQUAo"
      },
      "outputs": [],
      "source": [
        "url2 = 'https://raw.githubusercontent.com/gagabriela2787/PracticaProfISPC/main/dataset/balance.csv'\n",
        "df2 = pd.read_csv(url2)"
      ]
    },
    {
      "cell_type": "code",
      "execution_count": null,
      "metadata": {
        "colab": {
          "base_uri": "https://localhost:8080/",
          "height": 206
        },
        "id": "wAniVMqyh8gW",
        "outputId": "802d5274-c276-4afd-b804-4833fc892349"
      },
      "outputs": [],
      "source": [
        "df2.head()\n"
      ]
    },
    {
      "cell_type": "code",
      "execution_count": 14,
      "metadata": {
        "id": "OZAVNrijTedm"
      },
      "outputs": [],
      "source": [
        "df2 = pd.read_csv(url2)\n"
      ]
    },
    {
      "cell_type": "code",
      "execution_count": null,
      "metadata": {
        "id": "BiFq_N1EUHOB"
      },
      "outputs": [],
      "source": [
        "df2.shape\n"
      ]
    },
    {
      "cell_type": "code",
      "execution_count": null,
      "metadata": {
        "id": "0jgx-JPMUJGA"
      },
      "outputs": [],
      "source": [
        "print(df2.columns)\n"
      ]
    },
    {
      "cell_type": "code",
      "execution_count": null,
      "metadata": {
        "id": "q767_c0XULEb"
      },
      "outputs": [],
      "source": [
        "df2.describe()\n"
      ]
    },
    {
      "cell_type": "code",
      "execution_count": 6,
      "metadata": {
        "id": "N1xn3AmMUMi7"
      },
      "outputs": [
        {
          "name": "stdout",
          "output_type": "stream",
          "text": [
            "<class 'pandas.core.frame.DataFrame'>\n",
            "RangeIndex: 380 entries, 0 to 379\n",
            "Data columns (total 9 columns):\n",
            " #   Column         Non-Null Count  Dtype  \n",
            "---  ------         --------------  -----  \n",
            " 0   id             380 non-null    int64  \n",
            " 1   anio           380 non-null    int64  \n",
            " 2   mes            380 non-null    int64  \n",
            " 3   balance        380 non-null    object \n",
            " 4   tipo           380 non-null    object \n",
            " 5   energia_mwh    380 non-null    float64\n",
            " 6   fecha_proceso  380 non-null    object \n",
            " 7   lote_id_log    380 non-null    int64  \n",
            " 8   indice_tiempo  380 non-null    object \n",
            "dtypes: float64(1), int64(4), object(4)\n",
            "memory usage: 26.8+ KB\n"
          ]
        }
      ],
      "source": [
        "df2.info()"
      ]
    },
    {
      "cell_type": "markdown",
      "metadata": {
        "id": "1f-gMj4qUPfG"
      },
      "source": [
        "\n",
        "\n",
        "---\n",
        "\n",
        "\n",
        "\n",
        "---\n",
        "\n"
      ]
    },
    {
      "cell_type": "markdown",
      "metadata": {
        "id": "oHwpmtUwU_VO"
      },
      "source": [
        "DATASET 3\n",
        "Consumo de Combustibles\n",
        "Consumo de combustibles por tipo de máquina y tipo de tecnología. Unidad: GAS NATURAL [Dam3] - FUEL OIL [Ton] - GAS OIL [M3] - CARBÓN MINERAL [Ton] - BIODIESEL [Ton]"
      ]
    },
    {
      "cell_type": "code",
      "execution_count": 17,
      "metadata": {
        "id": "tBhLiANOVqv8"
      },
      "outputs": [],
      "source": [
        "url3 = 'https://raw.githubusercontent.com/gagabriela2787/PracticaProfISPC/main/dataset/combustibles.csv'"
      ]
    },
    {
      "cell_type": "code",
      "execution_count": 18,
      "metadata": {
        "id": "b95BTDzWVwDs"
      },
      "outputs": [],
      "source": [
        "df3 = pd.read_csv(url3)\n"
      ]
    },
    {
      "cell_type": "code",
      "execution_count": 19,
      "metadata": {
        "id": "2e0tUqRQiCoz"
      },
      "outputs": [
        {
          "data": {
            "text/html": [
              "<div>\n",
              "<style scoped>\n",
              "    .dataframe tbody tr th:only-of-type {\n",
              "        vertical-align: middle;\n",
              "    }\n",
              "\n",
              "    .dataframe tbody tr th {\n",
              "        vertical-align: top;\n",
              "    }\n",
              "\n",
              "    .dataframe thead th {\n",
              "        text-align: right;\n",
              "    }\n",
              "</style>\n",
              "<table border=\"1\" class=\"dataframe\">\n",
              "  <thead>\n",
              "    <tr style=\"text-align: right;\">\n",
              "      <th></th>\n",
              "      <th>id</th>\n",
              "      <th>anio</th>\n",
              "      <th>mes</th>\n",
              "      <th>maquina</th>\n",
              "      <th>central</th>\n",
              "      <th>agente</th>\n",
              "      <th>agente_descripcion</th>\n",
              "      <th>tipo_maquina</th>\n",
              "      <th>fuente_generacion</th>\n",
              "      <th>tecnologia</th>\n",
              "      <th>combustible</th>\n",
              "      <th>consumo</th>\n",
              "      <th>fecha_proceso</th>\n",
              "      <th>lote_id_log</th>\n",
              "      <th>indice_tiempo</th>\n",
              "    </tr>\n",
              "  </thead>\n",
              "  <tbody>\n",
              "    <tr>\n",
              "      <th>0</th>\n",
              "      <td>210851</td>\n",
              "      <td>2017</td>\n",
              "      <td>1</td>\n",
              "      <td>ABRODI01</td>\n",
              "      <td>ABRO</td>\n",
              "      <td>CTBROWNG</td>\n",
              "      <td>C.T. ALMIRANTE BROWN</td>\n",
              "      <td>MOTOR DIESEL</td>\n",
              "      <td>Térmica</td>\n",
              "      <td>DI</td>\n",
              "      <td>GAS OIL</td>\n",
              "      <td>30.564</td>\n",
              "      <td>2020-05-05 11:07:07.467556</td>\n",
              "      <td>67</td>\n",
              "      <td>2017-01</td>\n",
              "    </tr>\n",
              "    <tr>\n",
              "      <th>1</th>\n",
              "      <td>210852</td>\n",
              "      <td>2017</td>\n",
              "      <td>1</td>\n",
              "      <td>ACAJTG01</td>\n",
              "      <td>CAPE</td>\n",
              "      <td>CAPEX-QA</td>\n",
              "      <td>CAPEX S.A. AUTOGENERADOR</td>\n",
              "      <td>TURBO GAS</td>\n",
              "      <td>Térmica</td>\n",
              "      <td>CC</td>\n",
              "      <td>GAS NATURAL</td>\n",
              "      <td>11734.436</td>\n",
              "      <td>2020-05-05 11:07:07.467556</td>\n",
              "      <td>67</td>\n",
              "      <td>2017-01</td>\n",
              "    </tr>\n",
              "    <tr>\n",
              "      <th>2</th>\n",
              "      <td>210853</td>\n",
              "      <td>2017</td>\n",
              "      <td>1</td>\n",
              "      <td>ACAJTG02</td>\n",
              "      <td>ACAJ</td>\n",
              "      <td>CAPEXSAG</td>\n",
              "      <td>C.T. AGUA DEL CAJON</td>\n",
              "      <td>TURBO GAS</td>\n",
              "      <td>Térmica</td>\n",
              "      <td>CC</td>\n",
              "      <td>GAS NATURAL</td>\n",
              "      <td>12363.875</td>\n",
              "      <td>2020-05-05 11:07:07.467556</td>\n",
              "      <td>67</td>\n",
              "      <td>2017-01</td>\n",
              "    </tr>\n",
              "    <tr>\n",
              "      <th>3</th>\n",
              "      <td>210854</td>\n",
              "      <td>2017</td>\n",
              "      <td>1</td>\n",
              "      <td>ACAJTG03</td>\n",
              "      <td>ACAJ</td>\n",
              "      <td>CAPEXSAG</td>\n",
              "      <td>C.T. AGUA DEL CAJON</td>\n",
              "      <td>TURBO GAS</td>\n",
              "      <td>Térmica</td>\n",
              "      <td>CC</td>\n",
              "      <td>GAS NATURAL</td>\n",
              "      <td>12411.323</td>\n",
              "      <td>2020-05-05 11:07:07.467556</td>\n",
              "      <td>67</td>\n",
              "      <td>2017-01</td>\n",
              "    </tr>\n",
              "    <tr>\n",
              "      <th>4</th>\n",
              "      <td>210855</td>\n",
              "      <td>2017</td>\n",
              "      <td>1</td>\n",
              "      <td>ACAJTG05</td>\n",
              "      <td>ACAJ</td>\n",
              "      <td>CAPEXSAG</td>\n",
              "      <td>C.T. AGUA DEL CAJON</td>\n",
              "      <td>TURBO GAS</td>\n",
              "      <td>Térmica</td>\n",
              "      <td>CC</td>\n",
              "      <td>GAS NATURAL</td>\n",
              "      <td>12482.911</td>\n",
              "      <td>2020-05-05 11:07:07.467556</td>\n",
              "      <td>67</td>\n",
              "      <td>2017-01</td>\n",
              "    </tr>\n",
              "  </tbody>\n",
              "</table>\n",
              "</div>"
            ],
            "text/plain": [
              "       id  anio  mes   maquina central    agente        agente_descripcion   \n",
              "0  210851  2017    1  ABRODI01    ABRO  CTBROWNG      C.T. ALMIRANTE BROWN  \\\n",
              "1  210852  2017    1  ACAJTG01    CAPE  CAPEX-QA  CAPEX S.A. AUTOGENERADOR   \n",
              "2  210853  2017    1  ACAJTG02    ACAJ  CAPEXSAG       C.T. AGUA DEL CAJON   \n",
              "3  210854  2017    1  ACAJTG03    ACAJ  CAPEXSAG       C.T. AGUA DEL CAJON   \n",
              "4  210855  2017    1  ACAJTG05    ACAJ  CAPEXSAG       C.T. AGUA DEL CAJON   \n",
              "\n",
              "   tipo_maquina fuente_generacion tecnologia  combustible    consumo   \n",
              "0  MOTOR DIESEL           Térmica         DI      GAS OIL     30.564  \\\n",
              "1     TURBO GAS           Térmica         CC  GAS NATURAL  11734.436   \n",
              "2     TURBO GAS           Térmica         CC  GAS NATURAL  12363.875   \n",
              "3     TURBO GAS           Térmica         CC  GAS NATURAL  12411.323   \n",
              "4     TURBO GAS           Térmica         CC  GAS NATURAL  12482.911   \n",
              "\n",
              "                fecha_proceso  lote_id_log indice_tiempo  \n",
              "0  2020-05-05 11:07:07.467556           67       2017-01  \n",
              "1  2020-05-05 11:07:07.467556           67       2017-01  \n",
              "2  2020-05-05 11:07:07.467556           67       2017-01  \n",
              "3  2020-05-05 11:07:07.467556           67       2017-01  \n",
              "4  2020-05-05 11:07:07.467556           67       2017-01  "
            ]
          },
          "execution_count": 19,
          "metadata": {},
          "output_type": "execute_result"
        }
      ],
      "source": [
        "df3.head()"
      ]
    },
    {
      "cell_type": "code",
      "execution_count": 20,
      "metadata": {
        "id": "DoAsxz8VV2s4"
      },
      "outputs": [
        {
          "data": {
            "text/plain": [
              "(13574, 15)"
            ]
          },
          "execution_count": 20,
          "metadata": {},
          "output_type": "execute_result"
        }
      ],
      "source": [
        "df3.shape\n"
      ]
    },
    {
      "cell_type": "code",
      "execution_count": 21,
      "metadata": {
        "id": "i9ptBm-5V4LV"
      },
      "outputs": [
        {
          "name": "stdout",
          "output_type": "stream",
          "text": [
            "Index(['id', 'anio', 'mes', 'maquina', 'central', 'agente',\n",
            "       'agente_descripcion', 'tipo_maquina', 'fuente_generacion', 'tecnologia',\n",
            "       'combustible', 'consumo', 'fecha_proceso', 'lote_id_log',\n",
            "       'indice_tiempo'],\n",
            "      dtype='object')\n"
          ]
        }
      ],
      "source": [
        "print(df3.columns)\n"
      ]
    },
    {
      "cell_type": "code",
      "execution_count": 22,
      "metadata": {
        "id": "52-p6uJ3V6M9"
      },
      "outputs": [
        {
          "data": {
            "text/html": [
              "<div>\n",
              "<style scoped>\n",
              "    .dataframe tbody tr th:only-of-type {\n",
              "        vertical-align: middle;\n",
              "    }\n",
              "\n",
              "    .dataframe tbody tr th {\n",
              "        vertical-align: top;\n",
              "    }\n",
              "\n",
              "    .dataframe thead th {\n",
              "        text-align: right;\n",
              "    }\n",
              "</style>\n",
              "<table border=\"1\" class=\"dataframe\">\n",
              "  <thead>\n",
              "    <tr style=\"text-align: right;\">\n",
              "      <th></th>\n",
              "      <th>id</th>\n",
              "      <th>anio</th>\n",
              "      <th>mes</th>\n",
              "      <th>consumo</th>\n",
              "      <th>lote_id_log</th>\n",
              "    </tr>\n",
              "  </thead>\n",
              "  <tbody>\n",
              "    <tr>\n",
              "      <th>count</th>\n",
              "      <td>13574.000000</td>\n",
              "      <td>13574.000000</td>\n",
              "      <td>13574.000000</td>\n",
              "      <td>13574.000000</td>\n",
              "      <td>13574.0</td>\n",
              "    </tr>\n",
              "    <tr>\n",
              "      <th>mean</th>\n",
              "      <td>217637.500000</td>\n",
              "      <td>2018.168337</td>\n",
              "      <td>6.225505</td>\n",
              "      <td>4560.264893</td>\n",
              "      <td>67.0</td>\n",
              "    </tr>\n",
              "    <tr>\n",
              "      <th>std</th>\n",
              "      <td>3918.620612</td>\n",
              "      <td>0.896811</td>\n",
              "      <td>3.528214</td>\n",
              "      <td>10257.278366</td>\n",
              "      <td>0.0</td>\n",
              "    </tr>\n",
              "    <tr>\n",
              "      <th>min</th>\n",
              "      <td>210851.000000</td>\n",
              "      <td>2017.000000</td>\n",
              "      <td>1.000000</td>\n",
              "      <td>0.001000</td>\n",
              "      <td>67.0</td>\n",
              "    </tr>\n",
              "    <tr>\n",
              "      <th>25%</th>\n",
              "      <td>214244.250000</td>\n",
              "      <td>2017.000000</td>\n",
              "      <td>3.000000</td>\n",
              "      <td>45.077000</td>\n",
              "      <td>67.0</td>\n",
              "    </tr>\n",
              "    <tr>\n",
              "      <th>50%</th>\n",
              "      <td>217637.500000</td>\n",
              "      <td>2018.000000</td>\n",
              "      <td>6.000000</td>\n",
              "      <td>345.532000</td>\n",
              "      <td>67.0</td>\n",
              "    </tr>\n",
              "    <tr>\n",
              "      <th>75%</th>\n",
              "      <td>221030.750000</td>\n",
              "      <td>2019.000000</td>\n",
              "      <td>9.000000</td>\n",
              "      <td>2561.617750</td>\n",
              "      <td>67.0</td>\n",
              "    </tr>\n",
              "    <tr>\n",
              "      <th>max</th>\n",
              "      <td>224424.000000</td>\n",
              "      <td>2020.000000</td>\n",
              "      <td>12.000000</td>\n",
              "      <td>89158.291000</td>\n",
              "      <td>67.0</td>\n",
              "    </tr>\n",
              "  </tbody>\n",
              "</table>\n",
              "</div>"
            ],
            "text/plain": [
              "                  id          anio           mes       consumo  lote_id_log\n",
              "count   13574.000000  13574.000000  13574.000000  13574.000000      13574.0\n",
              "mean   217637.500000   2018.168337      6.225505   4560.264893         67.0\n",
              "std      3918.620612      0.896811      3.528214  10257.278366          0.0\n",
              "min    210851.000000   2017.000000      1.000000      0.001000         67.0\n",
              "25%    214244.250000   2017.000000      3.000000     45.077000         67.0\n",
              "50%    217637.500000   2018.000000      6.000000    345.532000         67.0\n",
              "75%    221030.750000   2019.000000      9.000000   2561.617750         67.0\n",
              "max    224424.000000   2020.000000     12.000000  89158.291000         67.0"
            ]
          },
          "execution_count": 22,
          "metadata": {},
          "output_type": "execute_result"
        }
      ],
      "source": [
        "df3.describe()\n"
      ]
    },
    {
      "cell_type": "code",
      "execution_count": 23,
      "metadata": {
        "id": "IbpozJFPV7zO"
      },
      "outputs": [
        {
          "name": "stdout",
          "output_type": "stream",
          "text": [
            "<class 'pandas.core.frame.DataFrame'>\n",
            "RangeIndex: 13574 entries, 0 to 13573\n",
            "Data columns (total 15 columns):\n",
            " #   Column              Non-Null Count  Dtype  \n",
            "---  ------              --------------  -----  \n",
            " 0   id                  13574 non-null  int64  \n",
            " 1   anio                13574 non-null  int64  \n",
            " 2   mes                 13574 non-null  int64  \n",
            " 3   maquina             13574 non-null  object \n",
            " 4   central             13574 non-null  object \n",
            " 5   agente              13574 non-null  object \n",
            " 6   agente_descripcion  13574 non-null  object \n",
            " 7   tipo_maquina        13574 non-null  object \n",
            " 8   fuente_generacion   13574 non-null  object \n",
            " 9   tecnologia          13574 non-null  object \n",
            " 10  combustible         13574 non-null  object \n",
            " 11  consumo             13574 non-null  float64\n",
            " 12  fecha_proceso       13574 non-null  object \n",
            " 13  lote_id_log         13574 non-null  int64  \n",
            " 14  indice_tiempo       13574 non-null  object \n",
            "dtypes: float64(1), int64(4), object(10)\n",
            "memory usage: 1.6+ MB\n"
          ]
        }
      ],
      "source": [
        "df3.info()"
      ]
    },
    {
      "cell_type": "markdown",
      "metadata": {
        "id": "YAq6vUqLV83h"
      },
      "source": [
        "\n",
        "\n",
        "---\n",
        "\n",
        "\n",
        "\n",
        "---\n",
        "\n"
      ]
    },
    {
      "cell_type": "markdown",
      "metadata": {
        "id": "Kdl40UbXaEgr"
      },
      "source": [
        "\n",
        "\n",
        "---\n",
        "\n",
        "\n",
        "\n",
        "---\n",
        "\n"
      ]
    },
    {
      "cell_type": "markdown",
      "metadata": {
        "id": "vb9K08nPaHIo"
      },
      "source": [
        "Disponibilidad por central\n",
        "Porcentaje de disponibilidad por central"
      ]
    },
    {
      "cell_type": "code",
      "execution_count": 3,
      "metadata": {
        "id": "r2OjPuycWUUx"
      },
      "outputs": [],
      "source": [
        "url4 = 'https://raw.githubusercontent.com/gagabriela2787/PracticaProfISPC/main/dataset/disponibilidad-por-central.csv'"
      ]
    },
    {
      "cell_type": "code",
      "execution_count": 4,
      "metadata": {
        "id": "b9iiDOp-anjE"
      },
      "outputs": [],
      "source": [
        "df4 = pd.read_csv(url4)\n"
      ]
    },
    {
      "cell_type": "code",
      "execution_count": 5,
      "metadata": {
        "id": "PzL_47Q5iLj1"
      },
      "outputs": [
        {
          "data": {
            "text/html": [
              "<div>\n",
              "<style scoped>\n",
              "    .dataframe tbody tr th:only-of-type {\n",
              "        vertical-align: middle;\n",
              "    }\n",
              "\n",
              "    .dataframe tbody tr th {\n",
              "        vertical-align: top;\n",
              "    }\n",
              "\n",
              "    .dataframe thead th {\n",
              "        text-align: right;\n",
              "    }\n",
              "</style>\n",
              "<table border=\"1\" class=\"dataframe\">\n",
              "  <thead>\n",
              "    <tr style=\"text-align: right;\">\n",
              "      <th></th>\n",
              "      <th>id</th>\n",
              "      <th>mes</th>\n",
              "      <th>central</th>\n",
              "      <th>agente</th>\n",
              "      <th>descripcion</th>\n",
              "      <th>tecnologia_descripcion</th>\n",
              "      <th>tecnologia</th>\n",
              "      <th>factor_disp_tec_porcentaje</th>\n",
              "      <th>fecha_proceso</th>\n",
              "      <th>lote_id_log</th>\n",
              "      <th>indice_tiempo</th>\n",
              "    </tr>\n",
              "  </thead>\n",
              "  <tbody>\n",
              "    <tr>\n",
              "      <th>0</th>\n",
              "      <td>121855</td>\n",
              "      <td>1</td>\n",
              "      <td>ABRO</td>\n",
              "      <td>CTBROWNG</td>\n",
              "      <td>C.T. ALMIRANTE BROWN</td>\n",
              "      <td>Motor Diesel</td>\n",
              "      <td>DI</td>\n",
              "      <td>1.000000</td>\n",
              "      <td>2020-05-05 11:07:57.624983</td>\n",
              "      <td>67</td>\n",
              "      <td>2017-01</td>\n",
              "    </tr>\n",
              "    <tr>\n",
              "      <th>1</th>\n",
              "      <td>121856</td>\n",
              "      <td>1</td>\n",
              "      <td>ACAJ</td>\n",
              "      <td>CAPEXSAG</td>\n",
              "      <td>C.T. AGUA DEL CAJON</td>\n",
              "      <td>Ciclos Combinados</td>\n",
              "      <td>CC</td>\n",
              "      <td>0.700782</td>\n",
              "      <td>2020-05-05 11:07:57.624983</td>\n",
              "      <td>67</td>\n",
              "      <td>2017-01</td>\n",
              "    </tr>\n",
              "    <tr>\n",
              "      <th>2</th>\n",
              "      <td>121857</td>\n",
              "      <td>1</td>\n",
              "      <td>AESP</td>\n",
              "      <td>CTAESPAG</td>\n",
              "      <td>C.T. AES PARANA</td>\n",
              "      <td>Ciclos Combinados</td>\n",
              "      <td>CC</td>\n",
              "      <td>0.976917</td>\n",
              "      <td>2020-05-05 11:07:57.624983</td>\n",
              "      <td>67</td>\n",
              "      <td>2017-01</td>\n",
              "    </tr>\n",
              "    <tr>\n",
              "      <th>3</th>\n",
              "      <td>121858</td>\n",
              "      <td>1</td>\n",
              "      <td>ALEM</td>\n",
              "      <td>CTALEMAG</td>\n",
              "      <td>CT ALEM - AGGREKO</td>\n",
              "      <td>Motor Diesel</td>\n",
              "      <td>DI</td>\n",
              "      <td>1.000000</td>\n",
              "      <td>2020-05-05 11:07:57.624983</td>\n",
              "      <td>67</td>\n",
              "      <td>2017-01</td>\n",
              "    </tr>\n",
              "    <tr>\n",
              "      <th>4</th>\n",
              "      <td>121859</td>\n",
              "      <td>1</td>\n",
              "      <td>ALUM</td>\n",
              "      <td>CTALUMSG</td>\n",
              "      <td>CT ALUMINÉ - SECCO</td>\n",
              "      <td>Motor Diesel</td>\n",
              "      <td>DI</td>\n",
              "      <td>1.000000</td>\n",
              "      <td>2020-05-05 11:07:57.624983</td>\n",
              "      <td>67</td>\n",
              "      <td>2017-01</td>\n",
              "    </tr>\n",
              "  </tbody>\n",
              "</table>\n",
              "</div>"
            ],
            "text/plain": [
              "       id  mes central    agente           descripcion tecnologia_descripcion   \n",
              "0  121855    1    ABRO  CTBROWNG  C.T. ALMIRANTE BROWN           Motor Diesel  \\\n",
              "1  121856    1    ACAJ  CAPEXSAG   C.T. AGUA DEL CAJON      Ciclos Combinados   \n",
              "2  121857    1    AESP  CTAESPAG       C.T. AES PARANA      Ciclos Combinados   \n",
              "3  121858    1    ALEM  CTALEMAG     CT ALEM - AGGREKO           Motor Diesel   \n",
              "4  121859    1    ALUM  CTALUMSG    CT ALUMINÉ - SECCO           Motor Diesel   \n",
              "\n",
              "  tecnologia  factor_disp_tec_porcentaje               fecha_proceso   \n",
              "0         DI                    1.000000  2020-05-05 11:07:57.624983  \\\n",
              "1         CC                    0.700782  2020-05-05 11:07:57.624983   \n",
              "2         CC                    0.976917  2020-05-05 11:07:57.624983   \n",
              "3         DI                    1.000000  2020-05-05 11:07:57.624983   \n",
              "4         DI                    1.000000  2020-05-05 11:07:57.624983   \n",
              "\n",
              "   lote_id_log indice_tiempo  \n",
              "0           67       2017-01  \n",
              "1           67       2017-01  \n",
              "2           67       2017-01  \n",
              "3           67       2017-01  \n",
              "4           67       2017-01  "
            ]
          },
          "execution_count": 5,
          "metadata": {},
          "output_type": "execute_result"
        }
      ],
      "source": [
        "df4.head()"
      ]
    },
    {
      "cell_type": "code",
      "execution_count": 6,
      "metadata": {
        "id": "dq6OUkc2ax-1"
      },
      "outputs": [
        {
          "data": {
            "text/plain": [
              "(8103, 11)"
            ]
          },
          "execution_count": 6,
          "metadata": {},
          "output_type": "execute_result"
        }
      ],
      "source": [
        "df4.shape\n"
      ]
    },
    {
      "cell_type": "code",
      "execution_count": 7,
      "metadata": {
        "id": "lcs2k3gKazgk"
      },
      "outputs": [
        {
          "name": "stdout",
          "output_type": "stream",
          "text": [
            "Index(['id', 'mes', 'central', 'agente', 'descripcion',\n",
            "       'tecnologia_descripcion', 'tecnologia', 'factor_disp_tec_porcentaje',\n",
            "       'fecha_proceso', 'lote_id_log', 'indice_tiempo'],\n",
            "      dtype='object')\n"
          ]
        }
      ],
      "source": [
        "print(df4.columns)\n"
      ]
    },
    {
      "cell_type": "code",
      "execution_count": 8,
      "metadata": {
        "id": "t0jZirm7a09X"
      },
      "outputs": [
        {
          "data": {
            "text/html": [
              "<div>\n",
              "<style scoped>\n",
              "    .dataframe tbody tr th:only-of-type {\n",
              "        vertical-align: middle;\n",
              "    }\n",
              "\n",
              "    .dataframe tbody tr th {\n",
              "        vertical-align: top;\n",
              "    }\n",
              "\n",
              "    .dataframe thead th {\n",
              "        text-align: right;\n",
              "    }\n",
              "</style>\n",
              "<table border=\"1\" class=\"dataframe\">\n",
              "  <thead>\n",
              "    <tr style=\"text-align: right;\">\n",
              "      <th></th>\n",
              "      <th>id</th>\n",
              "      <th>mes</th>\n",
              "      <th>factor_disp_tec_porcentaje</th>\n",
              "      <th>lote_id_log</th>\n",
              "    </tr>\n",
              "  </thead>\n",
              "  <tbody>\n",
              "    <tr>\n",
              "      <th>count</th>\n",
              "      <td>8103.000000</td>\n",
              "      <td>8103.000000</td>\n",
              "      <td>8103.000000</td>\n",
              "      <td>8103.0</td>\n",
              "    </tr>\n",
              "    <tr>\n",
              "      <th>mean</th>\n",
              "      <td>125906.000000</td>\n",
              "      <td>6.291003</td>\n",
              "      <td>0.779705</td>\n",
              "      <td>67.0</td>\n",
              "    </tr>\n",
              "    <tr>\n",
              "      <th>std</th>\n",
              "      <td>2339.278949</td>\n",
              "      <td>3.527090</td>\n",
              "      <td>0.334617</td>\n",
              "      <td>0.0</td>\n",
              "    </tr>\n",
              "    <tr>\n",
              "      <th>min</th>\n",
              "      <td>121855.000000</td>\n",
              "      <td>1.000000</td>\n",
              "      <td>0.000000</td>\n",
              "      <td>67.0</td>\n",
              "    </tr>\n",
              "    <tr>\n",
              "      <th>25%</th>\n",
              "      <td>123880.500000</td>\n",
              "      <td>3.000000</td>\n",
              "      <td>0.749833</td>\n",
              "      <td>67.0</td>\n",
              "    </tr>\n",
              "    <tr>\n",
              "      <th>50%</th>\n",
              "      <td>125906.000000</td>\n",
              "      <td>6.000000</td>\n",
              "      <td>0.946410</td>\n",
              "      <td>67.0</td>\n",
              "    </tr>\n",
              "    <tr>\n",
              "      <th>75%</th>\n",
              "      <td>127931.500000</td>\n",
              "      <td>9.000000</td>\n",
              "      <td>0.999812</td>\n",
              "      <td>67.0</td>\n",
              "    </tr>\n",
              "    <tr>\n",
              "      <th>max</th>\n",
              "      <td>129957.000000</td>\n",
              "      <td>12.000000</td>\n",
              "      <td>1.000000</td>\n",
              "      <td>67.0</td>\n",
              "    </tr>\n",
              "  </tbody>\n",
              "</table>\n",
              "</div>"
            ],
            "text/plain": [
              "                  id          mes  factor_disp_tec_porcentaje  lote_id_log\n",
              "count    8103.000000  8103.000000                 8103.000000       8103.0\n",
              "mean   125906.000000     6.291003                    0.779705         67.0\n",
              "std      2339.278949     3.527090                    0.334617          0.0\n",
              "min    121855.000000     1.000000                    0.000000         67.0\n",
              "25%    123880.500000     3.000000                    0.749833         67.0\n",
              "50%    125906.000000     6.000000                    0.946410         67.0\n",
              "75%    127931.500000     9.000000                    0.999812         67.0\n",
              "max    129957.000000    12.000000                    1.000000         67.0"
            ]
          },
          "execution_count": 8,
          "metadata": {},
          "output_type": "execute_result"
        }
      ],
      "source": [
        "df4.describe()\n"
      ]
    },
    {
      "cell_type": "code",
      "execution_count": 9,
      "metadata": {
        "id": "vXfDwrTGa2Xe"
      },
      "outputs": [
        {
          "name": "stdout",
          "output_type": "stream",
          "text": [
            "<class 'pandas.core.frame.DataFrame'>\n",
            "RangeIndex: 8103 entries, 0 to 8102\n",
            "Data columns (total 11 columns):\n",
            " #   Column                      Non-Null Count  Dtype  \n",
            "---  ------                      --------------  -----  \n",
            " 0   id                          8103 non-null   int64  \n",
            " 1   mes                         8103 non-null   int64  \n",
            " 2   central                     8103 non-null   object \n",
            " 3   agente                      8103 non-null   object \n",
            " 4   descripcion                 8103 non-null   object \n",
            " 5   tecnologia_descripcion      8103 non-null   object \n",
            " 6   tecnologia                  8103 non-null   object \n",
            " 7   factor_disp_tec_porcentaje  8103 non-null   float64\n",
            " 8   fecha_proceso               8103 non-null   object \n",
            " 9   lote_id_log                 8103 non-null   int64  \n",
            " 10  indice_tiempo               8103 non-null   object \n",
            "dtypes: float64(1), int64(3), object(7)\n",
            "memory usage: 696.5+ KB\n"
          ]
        }
      ],
      "source": [
        "df4.info()"
      ]
    },
    {
      "cell_type": "markdown",
      "metadata": {
        "id": "0czXRiQCbLlj"
      },
      "source": [
        "\n",
        "\n",
        "---\n",
        "\n",
        "\n",
        "\n",
        "---\n",
        "\n"
      ]
    },
    {
      "cell_type": "markdown",
      "metadata": {
        "id": "ujo1w-5QbLNB"
      },
      "source": [
        "\n",
        "DATASET 5\n",
        "\n",
        "Importaciones y Exportaciones\n",
        "\n"
      ]
    },
    {
      "cell_type": "code",
      "execution_count": 27,
      "metadata": {
        "id": "Go1mvMaqcPCt"
      },
      "outputs": [],
      "source": [
        "url5 = 'https://raw.githubusercontent.com/gagabriela2787/PracticaProfISPC/main/dataset/importaciones-y-exportaciones.csv'"
      ]
    },
    {
      "cell_type": "code",
      "execution_count": 28,
      "metadata": {
        "id": "kot44F0xcbWD"
      },
      "outputs": [],
      "source": [
        "df5 = pd.read_csv(url5)\n"
      ]
    },
    {
      "cell_type": "code",
      "execution_count": 29,
      "metadata": {
        "id": "OIVY_VFciODw"
      },
      "outputs": [
        {
          "data": {
            "text/html": [
              "<div>\n",
              "<style scoped>\n",
              "    .dataframe tbody tr th:only-of-type {\n",
              "        vertical-align: middle;\n",
              "    }\n",
              "\n",
              "    .dataframe tbody tr th {\n",
              "        vertical-align: top;\n",
              "    }\n",
              "\n",
              "    .dataframe thead th {\n",
              "        text-align: right;\n",
              "    }\n",
              "</style>\n",
              "<table border=\"1\" class=\"dataframe\">\n",
              "  <thead>\n",
              "    <tr style=\"text-align: right;\">\n",
              "      <th></th>\n",
              "      <th>id</th>\n",
              "      <th>anio</th>\n",
              "      <th>mes</th>\n",
              "      <th>pais</th>\n",
              "      <th>tipo</th>\n",
              "      <th>energia_mwh</th>\n",
              "      <th>fecha_proceso</th>\n",
              "      <th>lote_id_log</th>\n",
              "      <th>indice_tiempo</th>\n",
              "    </tr>\n",
              "  </thead>\n",
              "  <tbody>\n",
              "    <tr>\n",
              "      <th>0</th>\n",
              "      <td>5018</td>\n",
              "      <td>2017</td>\n",
              "      <td>1</td>\n",
              "      <td>Brasil</td>\n",
              "      <td>Exportación</td>\n",
              "      <td>71.046</td>\n",
              "      <td>2020-05-05 11:07:40.828862</td>\n",
              "      <td>67</td>\n",
              "      <td>2017-01</td>\n",
              "    </tr>\n",
              "    <tr>\n",
              "      <th>1</th>\n",
              "      <td>5019</td>\n",
              "      <td>2017</td>\n",
              "      <td>1</td>\n",
              "      <td>Chile</td>\n",
              "      <td>Exportación</td>\n",
              "      <td>0.000</td>\n",
              "      <td>2020-05-05 11:07:40.828862</td>\n",
              "      <td>67</td>\n",
              "      <td>2017-01</td>\n",
              "    </tr>\n",
              "    <tr>\n",
              "      <th>2</th>\n",
              "      <td>5020</td>\n",
              "      <td>2017</td>\n",
              "      <td>1</td>\n",
              "      <td>Paraguay</td>\n",
              "      <td>Exportación</td>\n",
              "      <td>0.000</td>\n",
              "      <td>2020-05-05 11:07:40.828862</td>\n",
              "      <td>67</td>\n",
              "      <td>2017-01</td>\n",
              "    </tr>\n",
              "    <tr>\n",
              "      <th>3</th>\n",
              "      <td>5021</td>\n",
              "      <td>2017</td>\n",
              "      <td>1</td>\n",
              "      <td>Uruguay</td>\n",
              "      <td>Exportación</td>\n",
              "      <td>0.000</td>\n",
              "      <td>2020-05-05 11:07:40.828862</td>\n",
              "      <td>67</td>\n",
              "      <td>2017-01</td>\n",
              "    </tr>\n",
              "    <tr>\n",
              "      <th>4</th>\n",
              "      <td>5022</td>\n",
              "      <td>2017</td>\n",
              "      <td>1</td>\n",
              "      <td>Brasil</td>\n",
              "      <td>Importación</td>\n",
              "      <td>108794.052</td>\n",
              "      <td>2020-05-05 11:07:40.828862</td>\n",
              "      <td>67</td>\n",
              "      <td>2017-01</td>\n",
              "    </tr>\n",
              "  </tbody>\n",
              "</table>\n",
              "</div>"
            ],
            "text/plain": [
              "     id  anio  mes      pais         tipo  energia_mwh   \n",
              "0  5018  2017    1    Brasil  Exportación       71.046  \\\n",
              "1  5019  2017    1     Chile  Exportación        0.000   \n",
              "2  5020  2017    1  Paraguay  Exportación        0.000   \n",
              "3  5021  2017    1   Uruguay  Exportación        0.000   \n",
              "4  5022  2017    1    Brasil  Importación   108794.052   \n",
              "\n",
              "                fecha_proceso  lote_id_log indice_tiempo  \n",
              "0  2020-05-05 11:07:40.828862           67       2017-01  \n",
              "1  2020-05-05 11:07:40.828862           67       2017-01  \n",
              "2  2020-05-05 11:07:40.828862           67       2017-01  \n",
              "3  2020-05-05 11:07:40.828862           67       2017-01  \n",
              "4  2020-05-05 11:07:40.828862           67       2017-01  "
            ]
          },
          "execution_count": 29,
          "metadata": {},
          "output_type": "execute_result"
        }
      ],
      "source": [
        "df5.head()"
      ]
    },
    {
      "cell_type": "code",
      "execution_count": 30,
      "metadata": {
        "id": "q8XY8334cmvI"
      },
      "outputs": [
        {
          "data": {
            "text/plain": [
              "(304, 9)"
            ]
          },
          "execution_count": 30,
          "metadata": {},
          "output_type": "execute_result"
        }
      ],
      "source": [
        "df5.shape\n"
      ]
    },
    {
      "cell_type": "code",
      "execution_count": 31,
      "metadata": {
        "id": "T_k0axARcoGf"
      },
      "outputs": [
        {
          "name": "stdout",
          "output_type": "stream",
          "text": [
            "Index(['id', 'anio', 'mes', 'pais', 'tipo', 'energia_mwh', 'fecha_proceso',\n",
            "       'lote_id_log', 'indice_tiempo'],\n",
            "      dtype='object')\n"
          ]
        }
      ],
      "source": [
        "print(df5.columns)\n"
      ]
    },
    {
      "cell_type": "code",
      "execution_count": 32,
      "metadata": {
        "id": "DzqwO52xcqcw"
      },
      "outputs": [
        {
          "data": {
            "text/html": [
              "<div>\n",
              "<style scoped>\n",
              "    .dataframe tbody tr th:only-of-type {\n",
              "        vertical-align: middle;\n",
              "    }\n",
              "\n",
              "    .dataframe tbody tr th {\n",
              "        vertical-align: top;\n",
              "    }\n",
              "\n",
              "    .dataframe thead th {\n",
              "        text-align: right;\n",
              "    }\n",
              "</style>\n",
              "<table border=\"1\" class=\"dataframe\">\n",
              "  <thead>\n",
              "    <tr style=\"text-align: right;\">\n",
              "      <th></th>\n",
              "      <th>id</th>\n",
              "      <th>anio</th>\n",
              "      <th>mes</th>\n",
              "      <th>energia_mwh</th>\n",
              "      <th>lote_id_log</th>\n",
              "    </tr>\n",
              "  </thead>\n",
              "  <tbody>\n",
              "    <tr>\n",
              "      <th>count</th>\n",
              "      <td>304.00000</td>\n",
              "      <td>304.000000</td>\n",
              "      <td>304.000000</td>\n",
              "      <td>304.000000</td>\n",
              "      <td>304.0</td>\n",
              "    </tr>\n",
              "    <tr>\n",
              "      <th>mean</th>\n",
              "      <td>5169.50000</td>\n",
              "      <td>2018.105263</td>\n",
              "      <td>6.236842</td>\n",
              "      <td>14938.730980</td>\n",
              "      <td>67.0</td>\n",
              "    </tr>\n",
              "    <tr>\n",
              "      <th>std</th>\n",
              "      <td>87.90146</td>\n",
              "      <td>0.913109</td>\n",
              "      <td>3.548321</td>\n",
              "      <td>51854.763626</td>\n",
              "      <td>0.0</td>\n",
              "    </tr>\n",
              "    <tr>\n",
              "      <th>min</th>\n",
              "      <td>5018.00000</td>\n",
              "      <td>2017.000000</td>\n",
              "      <td>1.000000</td>\n",
              "      <td>0.000000</td>\n",
              "      <td>67.0</td>\n",
              "    </tr>\n",
              "    <tr>\n",
              "      <th>25%</th>\n",
              "      <td>5093.75000</td>\n",
              "      <td>2017.000000</td>\n",
              "      <td>3.000000</td>\n",
              "      <td>0.000000</td>\n",
              "      <td>67.0</td>\n",
              "    </tr>\n",
              "    <tr>\n",
              "      <th>50%</th>\n",
              "      <td>5169.50000</td>\n",
              "      <td>2018.000000</td>\n",
              "      <td>6.000000</td>\n",
              "      <td>0.000000</td>\n",
              "      <td>67.0</td>\n",
              "    </tr>\n",
              "    <tr>\n",
              "      <th>75%</th>\n",
              "      <td>5245.25000</td>\n",
              "      <td>2019.000000</td>\n",
              "      <td>9.000000</td>\n",
              "      <td>5278.018500</td>\n",
              "      <td>67.0</td>\n",
              "    </tr>\n",
              "    <tr>\n",
              "      <th>max</th>\n",
              "      <td>5321.00000</td>\n",
              "      <td>2020.000000</td>\n",
              "      <td>12.000000</td>\n",
              "      <td>393804.740000</td>\n",
              "      <td>67.0</td>\n",
              "    </tr>\n",
              "  </tbody>\n",
              "</table>\n",
              "</div>"
            ],
            "text/plain": [
              "               id         anio         mes    energia_mwh  lote_id_log\n",
              "count   304.00000   304.000000  304.000000     304.000000        304.0\n",
              "mean   5169.50000  2018.105263    6.236842   14938.730980         67.0\n",
              "std      87.90146     0.913109    3.548321   51854.763626          0.0\n",
              "min    5018.00000  2017.000000    1.000000       0.000000         67.0\n",
              "25%    5093.75000  2017.000000    3.000000       0.000000         67.0\n",
              "50%    5169.50000  2018.000000    6.000000       0.000000         67.0\n",
              "75%    5245.25000  2019.000000    9.000000    5278.018500         67.0\n",
              "max    5321.00000  2020.000000   12.000000  393804.740000         67.0"
            ]
          },
          "execution_count": 32,
          "metadata": {},
          "output_type": "execute_result"
        }
      ],
      "source": [
        "df5.describe()\n"
      ]
    },
    {
      "cell_type": "code",
      "execution_count": 33,
      "metadata": {
        "id": "6gStjkD9cr4M"
      },
      "outputs": [
        {
          "name": "stdout",
          "output_type": "stream",
          "text": [
            "<class 'pandas.core.frame.DataFrame'>\n",
            "RangeIndex: 304 entries, 0 to 303\n",
            "Data columns (total 9 columns):\n",
            " #   Column         Non-Null Count  Dtype  \n",
            "---  ------         --------------  -----  \n",
            " 0   id             304 non-null    int64  \n",
            " 1   anio           304 non-null    int64  \n",
            " 2   mes            304 non-null    int64  \n",
            " 3   pais           304 non-null    object \n",
            " 4   tipo           304 non-null    object \n",
            " 5   energia_mwh    304 non-null    float64\n",
            " 6   fecha_proceso  304 non-null    object \n",
            " 7   lote_id_log    304 non-null    int64  \n",
            " 8   indice_tiempo  304 non-null    object \n",
            "dtypes: float64(1), int64(4), object(4)\n",
            "memory usage: 21.5+ KB\n"
          ]
        }
      ],
      "source": [
        "df5.info()"
      ]
    },
    {
      "cell_type": "markdown",
      "metadata": {
        "id": "-FZzhEXPcua-"
      },
      "source": [
        "\n",
        "\n",
        "---\n",
        "\n",
        "\n",
        "\n",
        "---\n",
        "\n"
      ]
    }
  ],
  "metadata": {
    "colab": {
      "provenance": []
    },
    "kernelspec": {
      "display_name": "Python 3",
      "name": "python3"
    },
    "language_info": {
      "codemirror_mode": {
        "name": "ipython",
        "version": 3
      },
      "file_extension": ".py",
      "mimetype": "text/x-python",
      "name": "python",
      "nbconvert_exporter": "python",
      "pygments_lexer": "ipython3",
      "version": "3.10.11"
    }
  },
  "nbformat": 4,
  "nbformat_minor": 0
}
