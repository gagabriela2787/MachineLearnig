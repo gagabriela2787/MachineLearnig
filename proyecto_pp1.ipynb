{
 "cells": [
  {
   "cell_type": "markdown",
   "id": "b51b457c",
   "metadata": {},
   "source": [
    "---\n",
    "### <center> Carga de Datos"
   ]
  },
  {
   "cell_type": "code",
   "execution_count": 1,
   "id": "19de6964",
   "metadata": {},
   "outputs": [],
   "source": [
    "import pandas as pd\n",
    "import matplotlib.pyplot as plt\n",
    "import numpy as np"
   ]
  },
  {
   "cell_type": "markdown",
   "id": "05b2bb00",
   "metadata": {},
   "source": [
    "#### Dataset: \"Generación Histórica\""
   ]
  },
  {
   "cell_type": "code",
   "execution_count": 2,
   "id": "021e9f06",
   "metadata": {},
   "outputs": [
    {
     "data": {
      "text/html": [
       "<div>\n",
       "<style scoped>\n",
       "    .dataframe tbody tr th:only-of-type {\n",
       "        vertical-align: middle;\n",
       "    }\n",
       "\n",
       "    .dataframe tbody tr th {\n",
       "        vertical-align: top;\n",
       "    }\n",
       "\n",
       "    .dataframe thead th {\n",
       "        text-align: right;\n",
       "    }\n",
       "</style>\n",
       "<table border=\"1\" class=\"dataframe\">\n",
       "  <thead>\n",
       "    <tr style=\"text-align: right;\">\n",
       "      <th></th>\n",
       "      <th>anio</th>\n",
       "      <th>mes</th>\n",
       "      <th>maquina</th>\n",
       "      <th>central</th>\n",
       "      <th>agente</th>\n",
       "      <th>agente_descripcion</th>\n",
       "      <th>region</th>\n",
       "      <th>pais</th>\n",
       "      <th>tipo_maquina</th>\n",
       "      <th>fuente_generacion</th>\n",
       "      <th>tecnologia</th>\n",
       "      <th>categoria_hidraulica</th>\n",
       "      <th>categoria_region</th>\n",
       "      <th>generacion_neta_MWh</th>\n",
       "      <th>indice_tiempo</th>\n",
       "    </tr>\n",
       "  </thead>\n",
       "  <tbody>\n",
       "    <tr>\n",
       "      <th>0</th>\n",
       "      <td>2012</td>\n",
       "      <td>1</td>\n",
       "      <td>3ARRDI01</td>\n",
       "      <td>3ARR</td>\n",
       "      <td>QUIL3A3A</td>\n",
       "      <td>QUILMES - PLANTA TRES ARROYOS</td>\n",
       "      <td>BUENOS AIRES</td>\n",
       "      <td>Argentina</td>\n",
       "      <td>MOTOR DIESEL</td>\n",
       "      <td>Térmica</td>\n",
       "      <td>DI</td>\n",
       "      <td>NaN</td>\n",
       "      <td>Gba - Litoral - Buenos Aires</td>\n",
       "      <td>0.000</td>\n",
       "      <td>2012-01</td>\n",
       "    </tr>\n",
       "    <tr>\n",
       "      <th>1</th>\n",
       "      <td>2012</td>\n",
       "      <td>1</td>\n",
       "      <td>ACAJTG01</td>\n",
       "      <td>CAPE</td>\n",
       "      <td>CAPEX-QA</td>\n",
       "      <td>CAPEX S.A. AUTOGENERADOR</td>\n",
       "      <td>COMAHUE</td>\n",
       "      <td>Argentina</td>\n",
       "      <td>TURBO GAS</td>\n",
       "      <td>Térmica</td>\n",
       "      <td>CC</td>\n",
       "      <td>NaN</td>\n",
       "      <td>Comahue</td>\n",
       "      <td>21868.984</td>\n",
       "      <td>2012-01</td>\n",
       "    </tr>\n",
       "    <tr>\n",
       "      <th>2</th>\n",
       "      <td>2012</td>\n",
       "      <td>1</td>\n",
       "      <td>ACAJTG02</td>\n",
       "      <td>ACAJ</td>\n",
       "      <td>CAPEXSAG</td>\n",
       "      <td>C.T. AGUA DEL CAJON</td>\n",
       "      <td>COMAHUE</td>\n",
       "      <td>Argentina</td>\n",
       "      <td>TURBO GAS</td>\n",
       "      <td>Térmica</td>\n",
       "      <td>CC</td>\n",
       "      <td>NaN</td>\n",
       "      <td>Comahue</td>\n",
       "      <td>24144.517</td>\n",
       "      <td>2012-01</td>\n",
       "    </tr>\n",
       "    <tr>\n",
       "      <th>3</th>\n",
       "      <td>2012</td>\n",
       "      <td>1</td>\n",
       "      <td>ACAJTG03</td>\n",
       "      <td>ACAJ</td>\n",
       "      <td>CAPEXSAG</td>\n",
       "      <td>C.T. AGUA DEL CAJON</td>\n",
       "      <td>COMAHUE</td>\n",
       "      <td>Argentina</td>\n",
       "      <td>TURBO GAS</td>\n",
       "      <td>Térmica</td>\n",
       "      <td>CC</td>\n",
       "      <td>NaN</td>\n",
       "      <td>Comahue</td>\n",
       "      <td>24259.713</td>\n",
       "      <td>2012-01</td>\n",
       "    </tr>\n",
       "    <tr>\n",
       "      <th>4</th>\n",
       "      <td>2012</td>\n",
       "      <td>1</td>\n",
       "      <td>ACAJTG04</td>\n",
       "      <td>ACAJ</td>\n",
       "      <td>CAPEXSAG</td>\n",
       "      <td>C.T. AGUA DEL CAJON</td>\n",
       "      <td>COMAHUE</td>\n",
       "      <td>Argentina</td>\n",
       "      <td>TURBO GAS</td>\n",
       "      <td>Térmica</td>\n",
       "      <td>CC</td>\n",
       "      <td>NaN</td>\n",
       "      <td>Comahue</td>\n",
       "      <td>26832.135</td>\n",
       "      <td>2012-01</td>\n",
       "    </tr>\n",
       "  </tbody>\n",
       "</table>\n",
       "</div>"
      ],
      "text/plain": [
       "   anio  mes   maquina central    agente             agente_descripcion   \n",
       "0  2012    1  3ARRDI01    3ARR  QUIL3A3A  QUILMES - PLANTA TRES ARROYOS  \\\n",
       "1  2012    1  ACAJTG01    CAPE  CAPEX-QA       CAPEX S.A. AUTOGENERADOR   \n",
       "2  2012    1  ACAJTG02    ACAJ  CAPEXSAG            C.T. AGUA DEL CAJON   \n",
       "3  2012    1  ACAJTG03    ACAJ  CAPEXSAG            C.T. AGUA DEL CAJON   \n",
       "4  2012    1  ACAJTG04    ACAJ  CAPEXSAG            C.T. AGUA DEL CAJON   \n",
       "\n",
       "         region       pais  tipo_maquina fuente_generacion tecnologia   \n",
       "0  BUENOS AIRES  Argentina  MOTOR DIESEL           Térmica         DI  \\\n",
       "1       COMAHUE  Argentina     TURBO GAS           Térmica         CC   \n",
       "2       COMAHUE  Argentina     TURBO GAS           Térmica         CC   \n",
       "3       COMAHUE  Argentina     TURBO GAS           Térmica         CC   \n",
       "4       COMAHUE  Argentina     TURBO GAS           Térmica         CC   \n",
       "\n",
       "  categoria_hidraulica              categoria_region  generacion_neta_MWh   \n",
       "0                  NaN  Gba - Litoral - Buenos Aires                0.000  \\\n",
       "1                  NaN                       Comahue            21868.984   \n",
       "2                  NaN                       Comahue            24144.517   \n",
       "3                  NaN                       Comahue            24259.713   \n",
       "4                  NaN                       Comahue            26832.135   \n",
       "\n",
       "  indice_tiempo  \n",
       "0       2012-01  \n",
       "1       2012-01  \n",
       "2       2012-01  \n",
       "3       2012-01  \n",
       "4       2012-01  "
      ]
     },
     "execution_count": 2,
     "metadata": {},
     "output_type": "execute_result"
    }
   ],
   "source": [
    "# Carga y visualización parcial de Datos:\n",
    "df = pd.read_csv('datasets/generacin-histrica.csv')\n",
    "df.head(5)"
   ]
  },
  {
   "cell_type": "markdown",
   "id": "8ca643cc",
   "metadata": {},
   "source": [
    "#### Dataset: \"Demanda Histórica\""
   ]
  },
  {
   "cell_type": "code",
   "execution_count": 3,
   "id": "58dbdd76",
   "metadata": {},
   "outputs": [
    {
     "data": {
      "text/html": [
       "<div>\n",
       "<style scoped>\n",
       "    .dataframe tbody tr th:only-of-type {\n",
       "        vertical-align: middle;\n",
       "    }\n",
       "\n",
       "    .dataframe tbody tr th {\n",
       "        vertical-align: top;\n",
       "    }\n",
       "\n",
       "    .dataframe thead th {\n",
       "        text-align: right;\n",
       "    }\n",
       "</style>\n",
       "<table border=\"1\" class=\"dataframe\">\n",
       "  <thead>\n",
       "    <tr style=\"text-align: right;\">\n",
       "      <th></th>\n",
       "      <th>anio</th>\n",
       "      <th>mes</th>\n",
       "      <th>agente_nemo</th>\n",
       "      <th>agente_descripcion</th>\n",
       "      <th>tipo_agente</th>\n",
       "      <th>region</th>\n",
       "      <th>provincia</th>\n",
       "      <th>categoria_area</th>\n",
       "      <th>categoria_demanda</th>\n",
       "      <th>tarifa</th>\n",
       "      <th>categoria_tarifa</th>\n",
       "      <th>demanda_MWh</th>\n",
       "      <th>indice_tiempo</th>\n",
       "    </tr>\n",
       "  </thead>\n",
       "  <tbody>\n",
       "    <tr>\n",
       "      <th>0</th>\n",
       "      <td>2012</td>\n",
       "      <td>1</td>\n",
       "      <td>AARGTAOY</td>\n",
       "      <td>AEROP ARG 2000 - Aeroparque</td>\n",
       "      <td>GU</td>\n",
       "      <td>GRAN BS.AS.</td>\n",
       "      <td>BUENOS AIRES</td>\n",
       "      <td>Gran Usuario MEM</td>\n",
       "      <td>Gran Usuario</td>\n",
       "      <td>GUMAS/AUTOGENERADORES</td>\n",
       "      <td>Industrial/Comercial Grande</td>\n",
       "      <td>2222.628</td>\n",
       "      <td>2012-01</td>\n",
       "    </tr>\n",
       "    <tr>\n",
       "      <th>1</th>\n",
       "      <td>2012</td>\n",
       "      <td>1</td>\n",
       "      <td>ACARQQ3Y</td>\n",
       "      <td>ASOC.COOP.ARG. - Quequén</td>\n",
       "      <td>GU</td>\n",
       "      <td>BUENOS AIRES</td>\n",
       "      <td>BUENOS AIRES</td>\n",
       "      <td>Gran Usuario MEM</td>\n",
       "      <td>Gran Usuario</td>\n",
       "      <td>GUMAS/AUTOGENERADORES</td>\n",
       "      <td>Industrial/Comercial Grande</td>\n",
       "      <td>536.858</td>\n",
       "      <td>2012-01</td>\n",
       "    </tr>\n",
       "    <tr>\n",
       "      <th>2</th>\n",
       "      <td>2012</td>\n",
       "      <td>1</td>\n",
       "      <td>ACARSLSY</td>\n",
       "      <td>ASOC.COOP.ARG. - San Lorenzo</td>\n",
       "      <td>GU</td>\n",
       "      <td>LITORAL</td>\n",
       "      <td>SANTA FE</td>\n",
       "      <td>Gran Usuario MEM</td>\n",
       "      <td>Gran Usuario</td>\n",
       "      <td>GUMAS/AUTOGENERADORES</td>\n",
       "      <td>Industrial/Comercial Grande</td>\n",
       "      <td>336.297</td>\n",
       "      <td>2012-01</td>\n",
       "    </tr>\n",
       "    <tr>\n",
       "      <th>3</th>\n",
       "      <td>2012</td>\n",
       "      <td>1</td>\n",
       "      <td>ACINROSY</td>\n",
       "      <td>ACINDAR ROSARIO EX-NAVARRO</td>\n",
       "      <td>GU</td>\n",
       "      <td>LITORAL</td>\n",
       "      <td>SANTA FE</td>\n",
       "      <td>Gran Usuario MEM</td>\n",
       "      <td>Gran Usuario</td>\n",
       "      <td>GUMAS/AUTOGENERADORES</td>\n",
       "      <td>Industrial/Comercial Grande</td>\n",
       "      <td>601.066</td>\n",
       "      <td>2012-01</td>\n",
       "    </tr>\n",
       "    <tr>\n",
       "      <th>4</th>\n",
       "      <td>2012</td>\n",
       "      <td>1</td>\n",
       "      <td>ACINTBOY</td>\n",
       "      <td>ACINDAR PTA. TABLADA</td>\n",
       "      <td>GU</td>\n",
       "      <td>GRAN BS.AS.</td>\n",
       "      <td>BUENOS AIRES</td>\n",
       "      <td>Gran Usuario MEM</td>\n",
       "      <td>Gran Usuario</td>\n",
       "      <td>GUMAS/AUTOGENERADORES</td>\n",
       "      <td>Industrial/Comercial Grande</td>\n",
       "      <td>3076.618</td>\n",
       "      <td>2012-01</td>\n",
       "    </tr>\n",
       "  </tbody>\n",
       "</table>\n",
       "</div>"
      ],
      "text/plain": [
       "   anio  mes agente_nemo            agente_descripcion tipo_agente   \n",
       "0  2012    1    AARGTAOY   AEROP ARG 2000 - Aeroparque          GU  \\\n",
       "1  2012    1    ACARQQ3Y      ASOC.COOP.ARG. - Quequén          GU   \n",
       "2  2012    1    ACARSLSY  ASOC.COOP.ARG. - San Lorenzo          GU   \n",
       "3  2012    1    ACINROSY    ACINDAR ROSARIO EX-NAVARRO          GU   \n",
       "4  2012    1    ACINTBOY          ACINDAR PTA. TABLADA          GU   \n",
       "\n",
       "         region     provincia    categoria_area categoria_demanda   \n",
       "0   GRAN BS.AS.  BUENOS AIRES  Gran Usuario MEM      Gran Usuario  \\\n",
       "1  BUENOS AIRES  BUENOS AIRES  Gran Usuario MEM      Gran Usuario   \n",
       "2       LITORAL      SANTA FE  Gran Usuario MEM      Gran Usuario   \n",
       "3       LITORAL      SANTA FE  Gran Usuario MEM      Gran Usuario   \n",
       "4   GRAN BS.AS.  BUENOS AIRES  Gran Usuario MEM      Gran Usuario   \n",
       "\n",
       "                  tarifa             categoria_tarifa  demanda_MWh   \n",
       "0  GUMAS/AUTOGENERADORES  Industrial/Comercial Grande     2222.628  \\\n",
       "1  GUMAS/AUTOGENERADORES  Industrial/Comercial Grande      536.858   \n",
       "2  GUMAS/AUTOGENERADORES  Industrial/Comercial Grande      336.297   \n",
       "3  GUMAS/AUTOGENERADORES  Industrial/Comercial Grande      601.066   \n",
       "4  GUMAS/AUTOGENERADORES  Industrial/Comercial Grande     3076.618   \n",
       "\n",
       "  indice_tiempo  \n",
       "0       2012-01  \n",
       "1       2012-01  \n",
       "2       2012-01  \n",
       "3       2012-01  \n",
       "4       2012-01  "
      ]
     },
     "execution_count": 3,
     "metadata": {},
     "output_type": "execute_result"
    }
   ],
   "source": [
    "# Carga y visualización parcial de Datos:\n",
    "df2 = pd.read_csv('datasets/demanda-histrica.csv')\n",
    "df2.head(5)"
   ]
  },
  {
   "cell_type": "markdown",
   "id": "7b54d95a",
   "metadata": {},
   "source": [
    "---\n",
    "### <center> Preparación de Datos"
   ]
  },
  {
   "cell_type": "markdown",
   "id": "2c7b372d",
   "metadata": {},
   "source": [
    "#### Dataset: \"Generación Histórica\""
   ]
  },
  {
   "cell_type": "code",
   "execution_count": 4,
   "id": "d093854b",
   "metadata": {},
   "outputs": [
    {
     "name": "stdout",
     "output_type": "stream",
     "text": [
      "<class 'pandas.core.frame.DataFrame'>\n",
      "RangeIndex: 91543 entries, 0 to 91542\n",
      "Data columns (total 15 columns):\n",
      " #   Column                Non-Null Count  Dtype  \n",
      "---  ------                --------------  -----  \n",
      " 0   anio                  91543 non-null  int64  \n",
      " 1   mes                   91543 non-null  int64  \n",
      " 2   maquina               91543 non-null  object \n",
      " 3   central               91543 non-null  object \n",
      " 4   agente                91543 non-null  object \n",
      " 5   agente_descripcion    91543 non-null  object \n",
      " 6   region                91543 non-null  object \n",
      " 7   pais                  91543 non-null  object \n",
      " 8   tipo_maquina          91543 non-null  object \n",
      " 9   fuente_generacion     91543 non-null  object \n",
      " 10  tecnologia            91543 non-null  object \n",
      " 11  categoria_hidraulica  9349 non-null   object \n",
      " 12  categoria_region      91543 non-null  object \n",
      " 13  generacion_neta_MWh   91543 non-null  float64\n",
      " 14  indice_tiempo         91543 non-null  object \n",
      "dtypes: float64(1), int64(2), object(12)\n",
      "memory usage: 10.5+ MB\n"
     ]
    }
   ],
   "source": [
    "df.info()"
   ]
  },
  {
   "cell_type": "code",
   "execution_count": 5,
   "id": "b025f289",
   "metadata": {},
   "outputs": [
    {
     "data": {
      "text/plain": [
       "False    91543\n",
       "Name: count, dtype: int64"
      ]
     },
     "execution_count": 5,
     "metadata": {},
     "output_type": "execute_result"
    }
   ],
   "source": [
    "# Chequeo de registros duplicados:\n",
    "df.duplicated().value_counts()"
   ]
  },
  {
   "cell_type": "markdown",
   "id": "698e66f3",
   "metadata": {},
   "source": [
    "Observamos que el DataFrame posee 91543 registros, y que cada columna posee la misma cantidad de objetos no nulos (ni *'Nan'* ni *'None'*) a excepción de *'categoria_hidraulica'*, aunque esta es una columna no significativa para nuestro análisis. Además, no existen registros duplicados."
   ]
  },
  {
   "cell_type": "code",
   "execution_count": 6,
   "id": "de661bd0",
   "metadata": {},
   "outputs": [],
   "source": [
    "# Eliminamos la columna 'categoria_hidraulica':\n",
    "df.drop(['categoria_hidraulica'], axis=1, inplace=True)"
   ]
  },
  {
   "cell_type": "code",
   "execution_count": 7,
   "id": "ebe55a91",
   "metadata": {},
   "outputs": [
    {
     "data": {
      "text/plain": [
       "pais\n",
       "Argentina      91541\n",
       "(en blanco)        1\n",
       "Paraguay           1\n",
       "Name: count, dtype: int64"
      ]
     },
     "execution_count": 7,
     "metadata": {},
     "output_type": "execute_result"
    }
   ],
   "source": [
    "# Chequeo de países presentes:\n",
    "df['pais'].value_counts()"
   ]
  },
  {
   "cell_type": "code",
   "execution_count": 8,
   "id": "65e5beed",
   "metadata": {},
   "outputs": [
    {
     "data": {
      "text/plain": [
       "pais\n",
       "Argentina    91541\n",
       "Name: count, dtype: int64"
      ]
     },
     "execution_count": 8,
     "metadata": {},
     "output_type": "execute_result"
    }
   ],
   "source": [
    "# Redefinimos el dataset, conservando sólamente los registros válidos para Argentina:\n",
    "df = df[df['pais'] == \"Argentina\"]\n",
    "df['pais'].value_counts()"
   ]
  },
  {
   "cell_type": "code",
   "execution_count": 9,
   "id": "e42f321d",
   "metadata": {},
   "outputs": [],
   "source": [
    "# Como hemos eliminado registros, reseteamos los índices del DataFrame:\n",
    "df.set_index((i for i in range(len(df))), inplace=True)"
   ]
  },
  {
   "cell_type": "code",
   "execution_count": 10,
   "id": "47d3ae0d",
   "metadata": {},
   "outputs": [
    {
     "name": "stdout",
     "output_type": "stream",
     "text": [
      "<class 'pandas.core.frame.DataFrame'>\n",
      "Index: 91541 entries, 0 to 91540\n",
      "Data columns (total 14 columns):\n",
      " #   Column               Non-Null Count  Dtype  \n",
      "---  ------               --------------  -----  \n",
      " 0   anio                 91541 non-null  int64  \n",
      " 1   mes                  91541 non-null  int64  \n",
      " 2   maquina              91541 non-null  object \n",
      " 3   central              91541 non-null  object \n",
      " 4   agente               91541 non-null  object \n",
      " 5   agente_descripcion   91541 non-null  object \n",
      " 6   region               91541 non-null  object \n",
      " 7   pais                 91541 non-null  object \n",
      " 8   tipo_maquina         91541 non-null  object \n",
      " 9   fuente_generacion    91541 non-null  object \n",
      " 10  tecnologia           91541 non-null  object \n",
      " 11  categoria_region     91541 non-null  object \n",
      " 12  generacion_neta_MWh  91541 non-null  float64\n",
      " 13  indice_tiempo        91541 non-null  object \n",
      "dtypes: float64(1), int64(2), object(11)\n",
      "memory usage: 10.5+ MB\n"
     ]
    }
   ],
   "source": [
    "# Información actualizada:\n",
    "df.info()"
   ]
  },
  {
   "cell_type": "markdown",
   "id": "53d3798c",
   "metadata": {},
   "source": [
    "El DataFrame 'df' consta de 91541 registros, sin inconsistencias, valores no nulos ni duplicados. Todos los registros son pertenecientes a la Argentina."
   ]
  },
  {
   "cell_type": "markdown",
   "id": "901966b3",
   "metadata": {},
   "source": [
    "#### Dataset: \"Demanda Histórica\""
   ]
  },
  {
   "cell_type": "code",
   "execution_count": 11,
   "id": "c9f80f8e",
   "metadata": {},
   "outputs": [
    {
     "name": "stdout",
     "output_type": "stream",
     "text": [
      "<class 'pandas.core.frame.DataFrame'>\n",
      "RangeIndex: 122263 entries, 0 to 122262\n",
      "Data columns (total 13 columns):\n",
      " #   Column              Non-Null Count   Dtype  \n",
      "---  ------              --------------   -----  \n",
      " 0   anio                122263 non-null  int64  \n",
      " 1   mes                 122263 non-null  int64  \n",
      " 2   agente_nemo         122263 non-null  object \n",
      " 3   agente_descripcion  122263 non-null  object \n",
      " 4   tipo_agente         122263 non-null  object \n",
      " 5   region              122263 non-null  object \n",
      " 6   provincia           122263 non-null  object \n",
      " 7   categoria_area      122263 non-null  object \n",
      " 8   categoria_demanda   122263 non-null  object \n",
      " 9   tarifa              122263 non-null  object \n",
      " 10  categoria_tarifa    122263 non-null  object \n",
      " 11  demanda_MWh         122263 non-null  float64\n",
      " 12  indice_tiempo       122263 non-null  object \n",
      "dtypes: float64(1), int64(2), object(10)\n",
      "memory usage: 12.1+ MB\n"
     ]
    }
   ],
   "source": [
    "df2.info()"
   ]
  },
  {
   "cell_type": "code",
   "execution_count": 12,
   "id": "90bf49c4",
   "metadata": {},
   "outputs": [
    {
     "data": {
      "text/plain": [
       "False    122263\n",
       "Name: count, dtype: int64"
      ]
     },
     "execution_count": 12,
     "metadata": {},
     "output_type": "execute_result"
    }
   ],
   "source": [
    "# Chequeo de registros duplicados:\n",
    "df2.duplicated().value_counts()"
   ]
  },
  {
   "cell_type": "markdown",
   "id": "33d6aadd",
   "metadata": {},
   "source": [
    "Observamos que el DataFrame 'df2' posee 122263 registros, y que cada columna posee la misma cantidad de objetos no nulos (ni *'Nan'* ni *'None'*). Además, no existen registros duplicados."
   ]
  },
  {
   "cell_type": "code",
   "execution_count": 13,
   "id": "23535031",
   "metadata": {},
   "outputs": [
    {
     "data": {
      "text/plain": [
       "provincia\n",
       "BUENOS AIRES      68217\n",
       "CHUBUT             7399\n",
       "SANTA FE           5422\n",
       "MENDOZA            5101\n",
       "ENTRE RIOS         4200\n",
       "NEUQUEN            3459\n",
       "RIO NEGRO          2969\n",
       "SAN JUAN           2790\n",
       "SANTA CRUZ         2649\n",
       "CORDOBA            2566\n",
       "TUCUMAN            2232\n",
       "SAN LUIS           1779\n",
       "LA RIOJA           1524\n",
       "CORRIENTES         1497\n",
       "FORMOSA            1431\n",
       "MISIONES           1400\n",
       "SALTA              1361\n",
       "JUJUY              1337\n",
       "SGO.DEL ESTERO     1324\n",
       "CATAMARCA          1323\n",
       "CHACO              1227\n",
       "LA PAMPA           1056\n",
       "Name: count, dtype: int64"
      ]
     },
     "execution_count": 13,
     "metadata": {},
     "output_type": "execute_result"
    }
   ],
   "source": [
    "# Chequeo de Provincias presentes:\n",
    "df2['provincia'].value_counts()"
   ]
  },
  {
   "cell_type": "markdown",
   "id": "63293b6c",
   "metadata": {},
   "source": [
    "Observamos que todos los registros corresponden a la demanda nacional. El DataFrame 'df2' consta de 122263 registros, sin inconsistencias, valores no nulos ni duplicados."
   ]
  },
  {
   "cell_type": "markdown",
   "id": "56f87ee7",
   "metadata": {},
   "source": [
    "---\n",
    "### <center> Análisis exploratorio de Datos"
   ]
  },
  {
   "cell_type": "markdown",
   "id": "cfdbe902",
   "metadata": {},
   "source": [
    "Al consultar las **'fuentes_generacion'**, observamos que existen varias clasificaciones para las tecnologías no renovables (Térmica, Hidráulica y Nuclear):"
   ]
  },
  {
   "cell_type": "code",
   "execution_count": 14,
   "id": "866c45b4",
   "metadata": {},
   "outputs": [
    {
     "data": {
      "text/plain": [
       "fuente_generacion\n",
       "Térmica       78568\n",
       "Renovable      6469\n",
       "Hidráulica     6230\n",
       "Nuclear         274\n",
       "Name: count, dtype: int64"
      ]
     },
     "execution_count": 14,
     "metadata": {},
     "output_type": "execute_result"
    }
   ],
   "source": [
    "df['fuente_generacion'].value_counts()"
   ]
  },
  {
   "cell_type": "code",
   "execution_count": 15,
   "id": "4de5b9be",
   "metadata": {},
   "outputs": [
    {
     "data": {
      "text/plain": [
       "tecnologia\n",
       "DI      53765\n",
       "TG      13977\n",
       "CC       6288\n",
       "HR       5477\n",
       "TV       4620\n",
       "HID      3871\n",
       "EOL      1250\n",
       "SOL       813\n",
       "BIOM      664\n",
       "BIOG      443\n",
       "NUC       274\n",
       "MHID       99\n",
       "Name: count, dtype: int64"
      ]
     },
     "execution_count": 15,
     "metadata": {},
     "output_type": "execute_result"
    }
   ],
   "source": [
    "# Analizamos los Tipos de tecnología disponibles:\n",
    "df['tecnologia'].value_counts()"
   ]
  },
  {
   "cell_type": "markdown",
   "id": "cbbcfc35",
   "metadata": {},
   "source": [
    "Estas Tecnologías se corresponden con las siguientes descripciones:\n",
    "\n",
    "**No Renovables:**\n",
    "\n",
    "* DI: Diesel\n",
    "* TG: Turbo Gas\n",
    "* CC: Ciclos Combinados\n",
    "* HID: Hidroeléctrica\n",
    "* NUC: Nuclear\n",
    "\n",
    "\n",
    "**Renovables:**\n",
    "\n",
    "* HR: Resto Hidráulico\n",
    "* TV: Turbo Vapor\n",
    "* EOL: Eólica\n",
    "* SOL: Solar\n",
    "* BIOM: Biomasa\n",
    "* BIOG: Biogas\n",
    "* MHID: Microhidráulica"
   ]
  },
  {
   "cell_type": "code",
   "execution_count": 16,
   "id": "e3a16304",
   "metadata": {},
   "outputs": [
    {
     "data": {
      "text/plain": [
       "tecnologia\n",
       "HR      3118\n",
       "EOL     1250\n",
       "SOL      813\n",
       "BIOM     664\n",
       "BIOG     443\n",
       "MHID      99\n",
       "TV        82\n",
       "Name: count, dtype: int64"
      ]
     },
     "execution_count": 16,
     "metadata": {},
     "output_type": "execute_result"
    }
   ],
   "source": [
    "# Corroboramos esta clasificación, consultando aquellas consideradas 'Renovables':\n",
    "df[df['fuente_generacion'] == \"Renovable\"]['tecnologia'].value_counts()"
   ]
  },
  {
   "cell_type": "markdown",
   "id": "355c57e4",
   "metadata": {},
   "source": [
    "Como la columna **'fuente_generacion'** posee varias clasificaciones según el origen de las fuentes no renovables, agrupamos estas clasificaciones y agregamos una columna **'renovable'** con valores booleanos que indique claramente si la producción es renovable o no:"
   ]
  },
  {
   "cell_type": "code",
   "execution_count": 17,
   "id": "d669bd48",
   "metadata": {},
   "outputs": [],
   "source": [
    "# Creamos los datos para la columna 'renovable':\n",
    "col_renovables = []\n",
    "\n",
    "for i in range(len(df)):\n",
    "    no_renovables = [\"DI\", \"TG\", \"CC\", \"HID\", \"NUC\"]\n",
    "    estado = True\n",
    "    if df['tecnologia'][i] in no_renovables:\n",
    "        estado = False\n",
    "    col_renovables.append(estado)\n",
    "\n",
    "# La asignamos al DataFrame:\n",
    "df['renovable'] = col_renovables"
   ]
  },
  {
   "cell_type": "markdown",
   "id": "c612c18d",
   "metadata": {},
   "source": [
    "Consultamos la producción energética anual según si es renovable o no:"
   ]
  },
  {
   "cell_type": "code",
   "execution_count": 18,
   "id": "8842eba4",
   "metadata": {},
   "outputs": [
    {
     "data": {
      "text/plain": [
       "anio  renovable\n",
       "2012  False        106.774155\n",
       "      True          18.934364\n",
       "2013  False        112.929202\n",
       "      True          20.611397\n",
       "2014  False        111.847246\n",
       "      True          22.986741\n",
       "2015  False        117.664821\n",
       "      True          23.508196\n",
       "2016  False        120.542962\n",
       "      True          20.244012\n",
       "2017  False        124.698230\n",
       "      True          15.031243\n",
       "2018  False        127.049060\n",
       "      True          12.497973\n",
       "2019  False        119.077790\n",
       "      True          13.180010\n",
       "2020  False         20.692694\n",
       "      True           2.936476\n",
       "Name: generacion_neta_MWh, dtype: float64"
      ]
     },
     "execution_count": 18,
     "metadata": {},
     "output_type": "execute_result"
    }
   ],
   "source": [
    "# Consultamos la generación neta en MWh según año y según origen renovable:\n",
    "anual_MWh = df.groupby(['anio', 'renovable'])['generacion_neta_MWh'].sum()\n",
    "\n",
    "# Convertimos los valores a TWh (Terawatts por hora) para una mejor lectura:\n",
    "anual_TWh = anual_MWh / 1000000\n",
    "anual_TWh"
   ]
  },
  {
   "cell_type": "code",
   "execution_count": 19,
   "id": "64f47363",
   "metadata": {
    "scrolled": false
   },
   "outputs": [
    {
     "data": {
      "image/png": "[encoded data removed]",
      "text/plain": [
       "<Figure size 1000x600 with 1 Axes>"
      ]
     },
     "metadata": {},
     "output_type": "display_data"
    }
   ],
   "source": [
    "# Generamos un gráfico de barras apiladas:\n",
    "anual_TWh.unstack().plot(kind=\"bar\", stacked=True, figsize=(10, 6))\n",
    "plt.title(\"Generación eléctrica total anual según Renovabilidad\")\n",
    "plt.xlabel(\"Año\")\n",
    "plt.ylabel(\"Generación (TWh)\")\n",
    "plt.show()"
   ]
  },
  {
   "cell_type": "code",
   "execution_count": 20,
   "id": "024c56bb",
   "metadata": {},
   "outputs": [
    {
     "data": {
      "text/plain": [
       "anio\n",
       "2012    125.708519\n",
       "2013    133.540599\n",
       "2014    134.833988\n",
       "2015    141.173017\n",
       "2016    140.786974\n",
       "2017    139.729473\n",
       "2018    139.547033\n",
       "2019    132.257799\n",
       "2020     23.629170\n",
       "Name: generacion_neta_MWh, dtype: float64"
      ]
     },
     "execution_count": 20,
     "metadata": {},
     "output_type": "execute_result"
    }
   ],
   "source": [
    "# Consultamos la generación neta según año:\n",
    "generacion_anual_MWh = df.groupby(['anio'])['generacion_neta_MWh'].sum()\n",
    "\n",
    "# Convertimos los valores a TWh (Terawatts por hora) para una mejor lectura:\n",
    "generacion_anual_TWh = generacion_anual_MWh / 1000000\n",
    "generacion_anual_TWh"
   ]
  },
  {
   "cell_type": "code",
   "execution_count": 21,
   "id": "337dc769",
   "metadata": {},
   "outputs": [
    {
     "data": {
      "text/plain": [
       "anio\n",
       "2012    121.188419\n",
       "2013    148.685929\n",
       "2014    153.663574\n",
       "2015    160.096750\n",
       "2016    145.244259\n",
       "2017    137.651217\n",
       "2018    133.224760\n",
       "2019    129.207755\n",
       "2020     22.822621\n",
       "Name: demanda_MWh, dtype: float64"
      ]
     },
     "execution_count": 21,
     "metadata": {},
     "output_type": "execute_result"
    }
   ],
   "source": [
    "# Consultamos la demanda neta en MWh según año:\n",
    "demanda_anual_MWh = df2.groupby(['anio'])['demanda_MWh'].sum()\n",
    "\n",
    "# Convertimos los valores a TWh (Terawatts por hora) para una mejor lectura:\n",
    "demanda_anual_TWh = demanda_anual_MWh / 1000000\n",
    "demanda_anual_TWh"
   ]
  },
  {
   "cell_type": "code",
   "execution_count": 22,
   "id": "b876942d",
   "metadata": {},
   "outputs": [
    {
     "data": {
      "image/png": "[encoded data removed]",
      "text/plain": [
       "<Figure size 800x500 with 1 Axes>"
      ]
     },
     "metadata": {},
     "output_type": "display_data"
    }
   ],
   "source": [
    "# Graficamos Generacion vs Demanda:\n",
    "generacion_anual_TWh.plot(label=\"Generado\",figsize=(8, 5))\n",
    "demanda_anual_TWh.plot(label=\"Demanda\")\n",
    "plt.title(\"Generación vs Demanda anual\")\n",
    "plt.xlabel(\"Año\")\n",
    "plt.ylabel(\"Energía (TWh)\")\n",
    "plt.legend()\n",
    "plt.show()"
   ]
  },
  {
   "cell_type": "markdown",
   "id": "d3939f96",
   "metadata": {},
   "source": [
    "---\n",
    "### Identificación de Variables:"
   ]
  },
  {
   "cell_type": "markdown",
   "id": "59706589",
   "metadata": {},
   "source": [
    "Condensamos la información disponible en estos dos dataframes en uno sólo:"
   ]
  },
  {
   "cell_type": "code",
   "execution_count": 23,
   "id": "100abe12",
   "metadata": {},
   "outputs": [
    {
     "data": {
      "text/html": [
       "<div>\n",
       "<style scoped>\n",
       "    .dataframe tbody tr th:only-of-type {\n",
       "        vertical-align: middle;\n",
       "    }\n",
       "\n",
       "    .dataframe tbody tr th {\n",
       "        vertical-align: top;\n",
       "    }\n",
       "\n",
       "    .dataframe thead th {\n",
       "        text-align: right;\n",
       "    }\n",
       "</style>\n",
       "<table border=\"1\" class=\"dataframe\">\n",
       "  <thead>\n",
       "    <tr style=\"text-align: right;\">\n",
       "      <th></th>\n",
       "      <th>total_generado_TWh</th>\n",
       "      <th>renovable_generado_TWh</th>\n",
       "      <th>%_renovable</th>\n",
       "      <th>demanda_TWh</th>\n",
       "      <th>%_cubierto</th>\n",
       "      <th>%_cubierto_renovables</th>\n",
       "    </tr>\n",
       "    <tr>\n",
       "      <th>indice_tiempo</th>\n",
       "      <th></th>\n",
       "      <th></th>\n",
       "      <th></th>\n",
       "      <th></th>\n",
       "      <th></th>\n",
       "      <th></th>\n",
       "    </tr>\n",
       "  </thead>\n",
       "  <tbody>\n",
       "    <tr>\n",
       "      <th>2012-01</th>\n",
       "      <td>11.254383</td>\n",
       "      <td>1.763412</td>\n",
       "      <td>15.668671</td>\n",
       "      <td>10.804700</td>\n",
       "      <td>104.161924</td>\n",
       "      <td>16.320789</td>\n",
       "    </tr>\n",
       "    <tr>\n",
       "      <th>2012-02</th>\n",
       "      <td>10.477590</td>\n",
       "      <td>1.516395</td>\n",
       "      <td>14.472744</td>\n",
       "      <td>10.085552</td>\n",
       "      <td>103.887120</td>\n",
       "      <td>15.035317</td>\n",
       "    </tr>\n",
       "    <tr>\n",
       "      <th>2012-03</th>\n",
       "      <td>10.546927</td>\n",
       "      <td>1.291358</td>\n",
       "      <td>12.243923</td>\n",
       "      <td>10.175365</td>\n",
       "      <td>103.651581</td>\n",
       "      <td>12.691019</td>\n",
       "    </tr>\n",
       "    <tr>\n",
       "      <th>2012-04</th>\n",
       "      <td>9.280070</td>\n",
       "      <td>1.512408</td>\n",
       "      <td>16.297372</td>\n",
       "      <td>8.969068</td>\n",
       "      <td>103.467486</td>\n",
       "      <td>16.862482</td>\n",
       "    </tr>\n",
       "    <tr>\n",
       "      <th>2012-05</th>\n",
       "      <td>10.080649</td>\n",
       "      <td>1.903697</td>\n",
       "      <td>18.884663</td>\n",
       "      <td>9.597272</td>\n",
       "      <td>105.036611</td>\n",
       "      <td>19.835810</td>\n",
       "    </tr>\n",
       "    <tr>\n",
       "      <th>...</th>\n",
       "      <td>...</td>\n",
       "      <td>...</td>\n",
       "      <td>...</td>\n",
       "      <td>...</td>\n",
       "      <td>...</td>\n",
       "      <td>...</td>\n",
       "    </tr>\n",
       "    <tr>\n",
       "      <th>2019-10</th>\n",
       "      <td>10.593192</td>\n",
       "      <td>1.268718</td>\n",
       "      <td>11.976725</td>\n",
       "      <td>10.382601</td>\n",
       "      <td>102.028306</td>\n",
       "      <td>12.219650</td>\n",
       "    </tr>\n",
       "    <tr>\n",
       "      <th>2019-11</th>\n",
       "      <td>10.641549</td>\n",
       "      <td>1.290268</td>\n",
       "      <td>12.124815</td>\n",
       "      <td>10.559481</td>\n",
       "      <td>100.777201</td>\n",
       "      <td>12.219049</td>\n",
       "    </tr>\n",
       "    <tr>\n",
       "      <th>2019-12</th>\n",
       "      <td>11.524032</td>\n",
       "      <td>1.505874</td>\n",
       "      <td>13.067250</td>\n",
       "      <td>11.175325</td>\n",
       "      <td>103.120334</td>\n",
       "      <td>13.474991</td>\n",
       "    </tr>\n",
       "    <tr>\n",
       "      <th>2020-01</th>\n",
       "      <td>12.432889</td>\n",
       "      <td>1.677411</td>\n",
       "      <td>13.491720</td>\n",
       "      <td>11.981204</td>\n",
       "      <td>103.769946</td>\n",
       "      <td>14.000351</td>\n",
       "    </tr>\n",
       "    <tr>\n",
       "      <th>2020-02</th>\n",
       "      <td>11.196281</td>\n",
       "      <td>1.259065</td>\n",
       "      <td>11.245385</td>\n",
       "      <td>10.841417</td>\n",
       "      <td>103.273225</td>\n",
       "      <td>11.613472</td>\n",
       "    </tr>\n",
       "  </tbody>\n",
       "</table>\n",
       "<p>98 rows × 6 columns</p>\n",
       "</div>"
      ],
      "text/plain": [
       "               total_generado_TWh  renovable_generado_TWh  %_renovable   \n",
       "indice_tiempo                                                            \n",
       "2012-01                 11.254383                1.763412    15.668671  \\\n",
       "2012-02                 10.477590                1.516395    14.472744   \n",
       "2012-03                 10.546927                1.291358    12.243923   \n",
       "2012-04                  9.280070                1.512408    16.297372   \n",
       "2012-05                 10.080649                1.903697    18.884663   \n",
       "...                           ...                     ...          ...   \n",
       "2019-10                 10.593192                1.268718    11.976725   \n",
       "2019-11                 10.641549                1.290268    12.124815   \n",
       "2019-12                 11.524032                1.505874    13.067250   \n",
       "2020-01                 12.432889                1.677411    13.491720   \n",
       "2020-02                 11.196281                1.259065    11.245385   \n",
       "\n",
       "               demanda_TWh  %_cubierto  %_cubierto_renovables  \n",
       "indice_tiempo                                                  \n",
       "2012-01          10.804700  104.161924              16.320789  \n",
       "2012-02          10.085552  103.887120              15.035317  \n",
       "2012-03          10.175365  103.651581              12.691019  \n",
       "2012-04           8.969068  103.467486              16.862482  \n",
       "2012-05           9.597272  105.036611              19.835810  \n",
       "...                    ...         ...                    ...  \n",
       "2019-10          10.382601  102.028306              12.219650  \n",
       "2019-11          10.559481  100.777201              12.219049  \n",
       "2019-12          11.175325  103.120334              13.474991  \n",
       "2020-01          11.981204  103.769946              14.000351  \n",
       "2020-02          10.841417  103.273225              11.613472  \n",
       "\n",
       "[98 rows x 6 columns]"
      ]
     },
     "execution_count": 23,
     "metadata": {},
     "output_type": "execute_result"
    }
   ],
   "source": [
    "# Obtenemos la generación total de energía discriminada por año y por mes:\n",
    "gen_xanioxmes_TWh = (df.groupby(['indice_tiempo'])['generacion_neta_MWh'].sum())/1000000\n",
    "\n",
    "# Obtenemos la generación de energía renovable discriminada por año y por mes:\n",
    "df_reno = df[df['renovable'] == True]\n",
    "genreno_xanioxmes_TWh = (df_reno.groupby(['indice_tiempo'])['generacion_neta_MWh'].sum())/1000000\n",
    "\n",
    "# Obtenemos la demanda de energía discriminada por año y por mes:\n",
    "demanda_xanioxmes_TWh = (df2.groupby(['indice_tiempo'])['demanda_MWh'].sum())/1000000\n",
    "\n",
    "# Creamos un nuevo DataFrame condensando toda esta información anual/mensual:\n",
    "df_totales = pd.DataFrame()\n",
    "df_totales['total_generado_TWh'] = gen_xanioxmes_TWh\n",
    "df_totales['renovable_generado_TWh'] = genreno_xanioxmes_TWh\n",
    "df_totales['%_renovable'] = df_totales['renovable_generado_TWh']*100/df_totales['total_generado_TWh']\n",
    "df_totales['demanda_TWh'] = demanda_xanioxmes_TWh\n",
    "df_totales['%_cubierto'] = df_totales['total_generado_TWh']*100/df_totales['demanda_TWh']\n",
    "df_totales['%_cubierto_renovables'] = df_totales['renovable_generado_TWh']*100/df_totales['demanda_TWh']\n",
    "\n",
    "df_totales"
   ]
  },
  {
   "cell_type": "code",
   "execution_count": null,
   "id": "cecfe61d",
   "metadata": {},
   "outputs": [],
   "source": []
  }
 ],
 "metadata": {
  "kernelspec": {
   "display_name": "Python 3 (ipykernel)",
   "language": "python",
   "name": "python3"
  },
  "language_info": {
   "codemirror_mode": {
    "name": "ipython",
    "version": 3
   },
   "file_extension": ".py",
   "mimetype": "text/x-python",
   "name": "python",
   "nbconvert_exporter": "python",
   "pygments_lexer": "ipython3",
   "version": "3.10.11"
  }
 },
 "nbformat": 4,
 "nbformat_minor": 5
}
