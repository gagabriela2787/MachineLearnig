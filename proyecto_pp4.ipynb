{
 "cells": [
  {
   "cell_type": "markdown",
   "metadata": {},
   "source": [
    "\n",
    "### I.Descripción del problema\n",
    "   #### - Cuál es el problema que se desea  resolver con el modelo de ML?   \n",
    "         Predecir a futuro la oferta/demanda y ver la evolución o la cobertura que se podría obtener con las renovables.\n",
    "   #### - Cuál es el objetivo principal de tu proyecto?\n",
    "         En 5 años que oferta habrá de energia en Argentina\n",
    "\n",
    "\n",
    "\n",
    "\n"
   ]
  },
  {
   "cell_type": "markdown",
   "metadata": {},
   "source": [
    "---\n",
    "---"
   ]
  },
  {
   "cell_type": "markdown",
   "metadata": {},
   "source": [
    "### II.Datos disponibles\n",
    "   #### - Qué datos hay a disposición y qué tipo de datos son?\n",
    "\n",
    "1. **anio**: 91543 non-null int64\n",
    "2. **mes**: 91543 non-null int64\n",
    "3. **maquina**: 91543 non-null object\n",
    "4. **central**: 91543 non-null object\n",
    "5. **agente**: 91543 non-null object\n",
    "6. **agente_descripcion**: 91543 non-null object\n",
    "7. **region**: 91543 non-null object\n",
    "8. **pais**: 91543 non-null object\n",
    "9. **tipo_maquina**: 91543 non-null object\n",
    "10. **fuente_generacion**: 91543 non-null object\n",
    "11. **tecnologia**: 91543 non-null object\n",
    "12. **categoria_hidraulica**: 9349 non-null object\n",
    "13. **categoria_region**: 91543 non-null object\n",
    "14. **generacion_neta_MWh**: 91543 non-null float64\n",
    "15. **indice_tiempo**: 91543 non-null object\n",
    "\n",
    "\n",
    "\n",
    "    #### ¿fuente de los datos?\n",
    "\n",
    "         Pagina de la secretaria de energia de Argentina - Limk: http://datos.energia.gob.ar/dataset/publicaciones-cammesa\n",
    "   \n",
    "   ##### - Cuántas muestras (filas) y características (columnas) tienen? \n",
    "\n",
    "          (91543, 2688)\n",
    "   ##### - Existe alguna desigualdad en la distribución de clases o etiquetas si es un problema de clasificación?\n",
    "   \n",
    "          no, existe"
   ]
  },
  {
   "cell_type": "markdown",
   "metadata": {},
   "source": [
    "---\n",
    "---\n"
   ]
  },
  {
   "cell_type": "markdown",
   "metadata": {},
   "source": [
    "\n",
    "### III.Preprocesamiento de datos\n",
    "   - Limpieza o preprocesamiento en tus datos\n",
    "   - Valores faltantes\n",
    "\n"
   ]
  },
  {
   "cell_type": "code",
   "execution_count": null,
   "metadata": {},
   "outputs": [],
   "source": [
    "import pandas as pd\n",
    "import matplotlib.pyplot as plt"
   ]
  },
  {
   "cell_type": "code",
   "execution_count": null,
   "metadata": {},
   "outputs": [],
   "source": [
    "# Carga y visualización parcial de Datos:\n",
    "df = pd.read_csv('datasets/generacin-histrica.csv')\n",
    "df.head(10)"
   ]
  },
  {
   "cell_type": "code",
   "execution_count": null,
   "metadata": {},
   "outputs": [],
   "source": [
    "df.info()"
   ]
  },
  {
   "cell_type": "code",
   "execution_count": null,
   "metadata": {},
   "outputs": [],
   "source": [
    "df.shape"
   ]
  },
  {
   "cell_type": "code",
   "execution_count": null,
   "metadata": {},
   "outputs": [],
   "source": [
    "# Chequeo de registros duplicados:\n",
    "df.duplicated().value_counts()"
   ]
  },
  {
   "cell_type": "code",
   "execution_count": null,
   "metadata": {},
   "outputs": [],
   "source": [
    "#Convertir las columnas 'anio' y 'mes' a objetos datetime\n",
    "df['anio'] = pd.to_datetime(df['anio'], format='%Y')\n",
    "df['mes'] = pd.to_datetime(df['mes'], format='%m')\n",
    "\n",
    "#Convertir la columna 'indice_tiempo' a objeto datetime\n",
    "df['indice_tiempo'] = pd.to_datetime(df['indice_tiempo'], format='%Y-%m')\n",
    "\n",
    "\n",
    "# Convertir las columnas que sean necesarias a numericas\n",
    "df[['generacion_neta_MWh']] = df[['generacion_neta_MWh']].apply(pd.to_numeric, errors='coerce')\n",
    "df[['central']] = df[['central']].apply(pd.to_numeric, errors='coerce')\n",
    "df[['region']] = df[['region']].apply(pd.to_numeric, errors='coerce')\n",
    "df[['fuente_generacion']] = df[['fuente_generacion']].apply(pd.to_numeric, errors='coerce')\n",
    "\n",
    "\n",
    "\n",
    "# Verificar los tipos de datos después de la conversión\n",
    "print(df.dtypes)\n"
   ]
  },
  {
   "cell_type": "markdown",
   "metadata": {},
   "source": [
    "---\n",
    "---\n"
   ]
  },
  {
   "cell_type": "markdown",
   "metadata": {},
   "source": [
    "### IV.Selección de características\n",
    "   - Realizar alguna selección de datos\n",
    "\n"
   ]
  },
  {
   "cell_type": "markdown",
   "metadata": {},
   "source": [
    "---\n",
    "---"
   ]
  },
  {
   "cell_type": "markdown",
   "metadata": {},
   "source": [
    "\n",
    "### V.Conjunto de entrenamiento y prueba\n",
    "   - Dividir los datos en conjuntos de entrenamiento y prueba\n",
    "\n"
   ]
  },
  {
   "cell_type": "markdown",
   "metadata": {},
   "source": [
    "---\n",
    "---"
   ]
  },
  {
   "cell_type": "markdown",
   "metadata": {},
   "source": [
    "\n",
    "### VI.Tipo de modelo\n",
    "   - ¿Tienes alguna idea sobre el tipo de modelo de machine learning que te gustaría utilizar (regresión, clasificación, clustering, etc.)?\n",
    "\n"
   ]
  },
  {
   "cell_type": "markdown",
   "metadata": {},
   "source": [
    "---\n",
    "---"
   ]
  },
  {
   "cell_type": "markdown",
   "metadata": {},
   "source": [
    "\n",
    "### VII.Métricas de evaluación\n",
    "   -Métricas para evaluar el rendimiento \n",
    "\n"
   ]
  },
  {
   "cell_type": "markdown",
   "metadata": {},
   "source": [
    "---\n",
    "---\n"
   ]
  },
  {
   "cell_type": "markdown",
   "metadata": {},
   "source": [
    "\n",
    "### VIII.Recursos y restricciones\n",
    " -Verificar los recursos computacionales\n"
   ]
  },
  {
   "cell_type": "markdown",
   "metadata": {},
   "source": [
    " \n",
    "### IX.Objetivo final\n",
    "    -Objetivo final del proyecto"
   ]
  }
 ],
 "metadata": {
  "kernelspec": {
   "display_name": "Python 3",
   "language": "python",
   "name": "python3"
  },
  "language_info": {
   "codemirror_mode": {
    "name": "ipython",
    "version": 3
   },
   "file_extension": ".py",
   "mimetype": "text/x-python",
   "name": "python",
   "nbconvert_exporter": "python",
   "pygments_lexer": "ipython3",
   "version": "3.10.11"
  }
 },
 "nbformat": 4,
 "nbformat_minor": 2
}
